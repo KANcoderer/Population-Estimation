{
 "cells": [
  {
   "cell_type": "code",
   "execution_count": 3,
   "metadata": {},
   "outputs": [],
   "source": [
    "import lightgbm as lgb\n",
    "import numpy as np\n",
    "import pandas as pd\n",
    "from sklearn.model_selection import KFold, train_test_split, GridSearchCV\n",
    "from sklearn.metrics import mean_absolute_error, root_mean_squared_error, median_absolute_error, log_loss"
   ]
  },
  {
   "cell_type": "markdown",
   "metadata": {},
   "source": [
    "Clean Building Data for Training"
   ]
  },
  {
   "cell_type": "markdown",
   "metadata": {},
   "source": [
    "Load MS Buildings joined with OSM data"
   ]
  },
  {
   "cell_type": "code",
   "execution_count": 17,
   "metadata": {},
   "outputs": [
    {
     "name": "stderr",
     "output_type": "stream",
     "text": [
      "C:\\Users\\nairk\\AppData\\Local\\Temp\\ipykernel_37644\\970071261.py:1: DtypeWarning: Columns (10,12,14,16,18,20,25) have mixed types. Specify dtype option on import or set low_memory=False.\n",
      "  combined=pd.read_csv(\"C:\\\\Users\\\\nairk\\\\census-by-precincts\\\\info\\\\MS_Joined\\\\WA_buildings.csv\")\n"
     ]
    }
   ],
   "source": [
    "combined=pd.read_csv(\"C:\\\\Users\\\\nairk\\\\census-by-precincts\\\\info\\\\MS_Joined\\\\WA_buildings.csv\")"
   ]
  },
  {
   "cell_type": "code",
   "execution_count": 50,
   "metadata": {},
   "outputs": [
    {
     "data": {
      "text/html": [
       "<div>\n",
       "<style scoped>\n",
       "    .dataframe tbody tr th:only-of-type {\n",
       "        vertical-align: middle;\n",
       "    }\n",
       "\n",
       "    .dataframe tbody tr th {\n",
       "        vertical-align: top;\n",
       "    }\n",
       "\n",
       "    .dataframe thead th {\n",
       "        text-align: right;\n",
       "    }\n",
       "</style>\n",
       "<table border=\"1\" class=\"dataframe\">\n",
       "  <thead>\n",
       "    <tr style=\"text-align: right;\">\n",
       "      <th></th>\n",
       "      <th>properties</th>\n",
       "      <th>id</th>\n",
       "      <th>Building_Area</th>\n",
       "      <th>GEOID</th>\n",
       "      <th>NAMELSAD</th>\n",
       "      <th>COUNTYNS</th>\n",
       "      <th>Tract</th>\n",
       "      <th>Area</th>\n",
       "      <th>osm_id</th>\n",
       "      <th>osm_way_id</th>\n",
       "      <th>...</th>\n",
       "      <th>leisure</th>\n",
       "      <th>man_made</th>\n",
       "      <th>military</th>\n",
       "      <th>natural</th>\n",
       "      <th>office</th>\n",
       "      <th>place</th>\n",
       "      <th>shop</th>\n",
       "      <th>sport</th>\n",
       "      <th>tourism</th>\n",
       "      <th>landuse</th>\n",
       "    </tr>\n",
       "  </thead>\n",
       "  <tbody>\n",
       "    <tr>\n",
       "      <th>0</th>\n",
       "      <td>{\"height\":4.0254335403442383,\"confidence\":-1.0}</td>\n",
       "      <td>0.0</td>\n",
       "      <td>68</td>\n",
       "      <td>3.003594e+10</td>\n",
       "      <td>Census Tract 9404</td>\n",
       "      <td>1719607.0</td>\n",
       "      <td>01719607 Census Tract 9404</td>\n",
       "      <td>5.650991e+09</td>\n",
       "      <td>NaN</td>\n",
       "      <td>NaN</td>\n",
       "      <td>...</td>\n",
       "      <td>NaN</td>\n",
       "      <td>NaN</td>\n",
       "      <td>NaN</td>\n",
       "      <td>NaN</td>\n",
       "      <td>NaN</td>\n",
       "      <td>NaN</td>\n",
       "      <td>NaN</td>\n",
       "      <td>NaN</td>\n",
       "      <td>NaN</td>\n",
       "      <td>NaN</td>\n",
       "    </tr>\n",
       "    <tr>\n",
       "      <th>1</th>\n",
       "      <td>{\"height\":-1.0,\"confidence\":-1.0}</td>\n",
       "      <td>1.0</td>\n",
       "      <td>116</td>\n",
       "      <td>3.003594e+10</td>\n",
       "      <td>Census Tract 9404</td>\n",
       "      <td>1719607.0</td>\n",
       "      <td>01719607 Census Tract 9404</td>\n",
       "      <td>5.650991e+09</td>\n",
       "      <td>NaN</td>\n",
       "      <td>NaN</td>\n",
       "      <td>...</td>\n",
       "      <td>NaN</td>\n",
       "      <td>NaN</td>\n",
       "      <td>NaN</td>\n",
       "      <td>NaN</td>\n",
       "      <td>NaN</td>\n",
       "      <td>NaN</td>\n",
       "      <td>NaN</td>\n",
       "      <td>NaN</td>\n",
       "      <td>NaN</td>\n",
       "      <td>NaN</td>\n",
       "    </tr>\n",
       "    <tr>\n",
       "      <th>2</th>\n",
       "      <td>{\"height\":-1.0,\"confidence\":-1.0}</td>\n",
       "      <td>2.0</td>\n",
       "      <td>49</td>\n",
       "      <td>3.003594e+10</td>\n",
       "      <td>Census Tract 9404</td>\n",
       "      <td>1719607.0</td>\n",
       "      <td>01719607 Census Tract 9404</td>\n",
       "      <td>5.650991e+09</td>\n",
       "      <td>NaN</td>\n",
       "      <td>NaN</td>\n",
       "      <td>...</td>\n",
       "      <td>NaN</td>\n",
       "      <td>NaN</td>\n",
       "      <td>NaN</td>\n",
       "      <td>NaN</td>\n",
       "      <td>NaN</td>\n",
       "      <td>NaN</td>\n",
       "      <td>NaN</td>\n",
       "      <td>NaN</td>\n",
       "      <td>NaN</td>\n",
       "      <td>NaN</td>\n",
       "    </tr>\n",
       "    <tr>\n",
       "      <th>3</th>\n",
       "      <td>{\"height\":-1.0,\"confidence\":-1.0}</td>\n",
       "      <td>3.0</td>\n",
       "      <td>67</td>\n",
       "      <td>3.003594e+10</td>\n",
       "      <td>Census Tract 9404</td>\n",
       "      <td>1719607.0</td>\n",
       "      <td>01719607 Census Tract 9404</td>\n",
       "      <td>5.650991e+09</td>\n",
       "      <td>NaN</td>\n",
       "      <td>NaN</td>\n",
       "      <td>...</td>\n",
       "      <td>NaN</td>\n",
       "      <td>NaN</td>\n",
       "      <td>NaN</td>\n",
       "      <td>NaN</td>\n",
       "      <td>NaN</td>\n",
       "      <td>NaN</td>\n",
       "      <td>NaN</td>\n",
       "      <td>NaN</td>\n",
       "      <td>NaN</td>\n",
       "      <td>NaN</td>\n",
       "    </tr>\n",
       "    <tr>\n",
       "      <th>4</th>\n",
       "      <td>{\"height\":-1.0,\"confidence\":-1.0}</td>\n",
       "      <td>4.0</td>\n",
       "      <td>176</td>\n",
       "      <td>3.003594e+10</td>\n",
       "      <td>Census Tract 9404</td>\n",
       "      <td>1719607.0</td>\n",
       "      <td>01719607 Census Tract 9404</td>\n",
       "      <td>5.650991e+09</td>\n",
       "      <td>NaN</td>\n",
       "      <td>NaN</td>\n",
       "      <td>...</td>\n",
       "      <td>NaN</td>\n",
       "      <td>NaN</td>\n",
       "      <td>NaN</td>\n",
       "      <td>NaN</td>\n",
       "      <td>NaN</td>\n",
       "      <td>NaN</td>\n",
       "      <td>NaN</td>\n",
       "      <td>NaN</td>\n",
       "      <td>NaN</td>\n",
       "      <td>NaN</td>\n",
       "    </tr>\n",
       "    <tr>\n",
       "      <th>...</th>\n",
       "      <td>...</td>\n",
       "      <td>...</td>\n",
       "      <td>...</td>\n",
       "      <td>...</td>\n",
       "      <td>...</td>\n",
       "      <td>...</td>\n",
       "      <td>...</td>\n",
       "      <td>...</td>\n",
       "      <td>...</td>\n",
       "      <td>...</td>\n",
       "      <td>...</td>\n",
       "      <td>...</td>\n",
       "      <td>...</td>\n",
       "      <td>...</td>\n",
       "      <td>...</td>\n",
       "      <td>...</td>\n",
       "      <td>...</td>\n",
       "      <td>...</td>\n",
       "      <td>...</td>\n",
       "      <td>...</td>\n",
       "      <td>...</td>\n",
       "    </tr>\n",
       "    <tr>\n",
       "      <th>901287</th>\n",
       "      <td>{\"height\":-1.0,\"confidence\":-1.0}</td>\n",
       "      <td>5389.0</td>\n",
       "      <td>43</td>\n",
       "      <td>3.001902e+10</td>\n",
       "      <td>Census Tract 203</td>\n",
       "      <td>1637566.0</td>\n",
       "      <td>01637566 Census Tract 203</td>\n",
       "      <td>3.695044e+09</td>\n",
       "      <td>NaN</td>\n",
       "      <td>NaN</td>\n",
       "      <td>...</td>\n",
       "      <td>NaN</td>\n",
       "      <td>NaN</td>\n",
       "      <td>NaN</td>\n",
       "      <td>NaN</td>\n",
       "      <td>NaN</td>\n",
       "      <td>NaN</td>\n",
       "      <td>NaN</td>\n",
       "      <td>NaN</td>\n",
       "      <td>NaN</td>\n",
       "      <td>NaN</td>\n",
       "    </tr>\n",
       "    <tr>\n",
       "      <th>901288</th>\n",
       "      <td>{\"height\":-1.0,\"confidence\":-1.0}</td>\n",
       "      <td>5390.0</td>\n",
       "      <td>36</td>\n",
       "      <td>3.001902e+10</td>\n",
       "      <td>Census Tract 203</td>\n",
       "      <td>1637566.0</td>\n",
       "      <td>01637566 Census Tract 203</td>\n",
       "      <td>3.695044e+09</td>\n",
       "      <td>NaN</td>\n",
       "      <td>NaN</td>\n",
       "      <td>...</td>\n",
       "      <td>NaN</td>\n",
       "      <td>NaN</td>\n",
       "      <td>NaN</td>\n",
       "      <td>NaN</td>\n",
       "      <td>NaN</td>\n",
       "      <td>NaN</td>\n",
       "      <td>NaN</td>\n",
       "      <td>NaN</td>\n",
       "      <td>NaN</td>\n",
       "      <td>NaN</td>\n",
       "    </tr>\n",
       "    <tr>\n",
       "      <th>901289</th>\n",
       "      <td>{\"height\":2.9063382148742671,\"confidence\":-1.0}</td>\n",
       "      <td>5391.0</td>\n",
       "      <td>383</td>\n",
       "      <td>3.009109e+10</td>\n",
       "      <td>Census Tract 902</td>\n",
       "      <td>1677577.0</td>\n",
       "      <td>01677577 Census Tract 902</td>\n",
       "      <td>2.080475e+09</td>\n",
       "      <td>NaN</td>\n",
       "      <td>NaN</td>\n",
       "      <td>...</td>\n",
       "      <td>NaN</td>\n",
       "      <td>NaN</td>\n",
       "      <td>NaN</td>\n",
       "      <td>NaN</td>\n",
       "      <td>NaN</td>\n",
       "      <td>NaN</td>\n",
       "      <td>NaN</td>\n",
       "      <td>NaN</td>\n",
       "      <td>NaN</td>\n",
       "      <td>NaN</td>\n",
       "    </tr>\n",
       "    <tr>\n",
       "      <th>901290</th>\n",
       "      <td>{\"height\":-1.0,\"confidence\":-1.0}</td>\n",
       "      <td>5392.0</td>\n",
       "      <td>20</td>\n",
       "      <td>3.001902e+10</td>\n",
       "      <td>Census Tract 203</td>\n",
       "      <td>1637566.0</td>\n",
       "      <td>01637566 Census Tract 203</td>\n",
       "      <td>3.695044e+09</td>\n",
       "      <td>NaN</td>\n",
       "      <td>NaN</td>\n",
       "      <td>...</td>\n",
       "      <td>NaN</td>\n",
       "      <td>NaN</td>\n",
       "      <td>NaN</td>\n",
       "      <td>NaN</td>\n",
       "      <td>NaN</td>\n",
       "      <td>NaN</td>\n",
       "      <td>NaN</td>\n",
       "      <td>NaN</td>\n",
       "      <td>NaN</td>\n",
       "      <td>NaN</td>\n",
       "    </tr>\n",
       "    <tr>\n",
       "      <th>901291</th>\n",
       "      <td>{\"height\":-1.0,\"confidence\":-1.0}</td>\n",
       "      <td>5393.0</td>\n",
       "      <td>21</td>\n",
       "      <td>3.001902e+10</td>\n",
       "      <td>Census Tract 203</td>\n",
       "      <td>1637566.0</td>\n",
       "      <td>01637566 Census Tract 203</td>\n",
       "      <td>3.695044e+09</td>\n",
       "      <td>NaN</td>\n",
       "      <td>NaN</td>\n",
       "      <td>...</td>\n",
       "      <td>NaN</td>\n",
       "      <td>NaN</td>\n",
       "      <td>NaN</td>\n",
       "      <td>NaN</td>\n",
       "      <td>NaN</td>\n",
       "      <td>NaN</td>\n",
       "      <td>NaN</td>\n",
       "      <td>NaN</td>\n",
       "      <td>NaN</td>\n",
       "      <td>NaN</td>\n",
       "    </tr>\n",
       "  </tbody>\n",
       "</table>\n",
       "<p>901292 rows × 27 columns</p>\n",
       "</div>"
      ],
      "text/plain": [
       "                                             properties      id  \\\n",
       "0       {\"height\":4.0254335403442383,\"confidence\":-1.0}     0.0   \n",
       "1                     {\"height\":-1.0,\"confidence\":-1.0}     1.0   \n",
       "2                     {\"height\":-1.0,\"confidence\":-1.0}     2.0   \n",
       "3                     {\"height\":-1.0,\"confidence\":-1.0}     3.0   \n",
       "4                     {\"height\":-1.0,\"confidence\":-1.0}     4.0   \n",
       "...                                                 ...     ...   \n",
       "901287                {\"height\":-1.0,\"confidence\":-1.0}  5389.0   \n",
       "901288                {\"height\":-1.0,\"confidence\":-1.0}  5390.0   \n",
       "901289  {\"height\":2.9063382148742671,\"confidence\":-1.0}  5391.0   \n",
       "901290                {\"height\":-1.0,\"confidence\":-1.0}  5392.0   \n",
       "901291                {\"height\":-1.0,\"confidence\":-1.0}  5393.0   \n",
       "\n",
       "        Building_Area         GEOID           NAMELSAD   COUNTYNS  \\\n",
       "0                  68  3.003594e+10  Census Tract 9404  1719607.0   \n",
       "1                 116  3.003594e+10  Census Tract 9404  1719607.0   \n",
       "2                  49  3.003594e+10  Census Tract 9404  1719607.0   \n",
       "3                  67  3.003594e+10  Census Tract 9404  1719607.0   \n",
       "4                 176  3.003594e+10  Census Tract 9404  1719607.0   \n",
       "...               ...           ...                ...        ...   \n",
       "901287             43  3.001902e+10   Census Tract 203  1637566.0   \n",
       "901288             36  3.001902e+10   Census Tract 203  1637566.0   \n",
       "901289            383  3.009109e+10   Census Tract 902  1677577.0   \n",
       "901290             20  3.001902e+10   Census Tract 203  1637566.0   \n",
       "901291             21  3.001902e+10   Census Tract 203  1637566.0   \n",
       "\n",
       "                             Tract          Area  osm_id  osm_way_id  ...  \\\n",
       "0       01719607 Census Tract 9404  5.650991e+09     NaN         NaN  ...   \n",
       "1       01719607 Census Tract 9404  5.650991e+09     NaN         NaN  ...   \n",
       "2       01719607 Census Tract 9404  5.650991e+09     NaN         NaN  ...   \n",
       "3       01719607 Census Tract 9404  5.650991e+09     NaN         NaN  ...   \n",
       "4       01719607 Census Tract 9404  5.650991e+09     NaN         NaN  ...   \n",
       "...                            ...           ...     ...         ...  ...   \n",
       "901287   01637566 Census Tract 203  3.695044e+09     NaN         NaN  ...   \n",
       "901288   01637566 Census Tract 203  3.695044e+09     NaN         NaN  ...   \n",
       "901289   01677577 Census Tract 902  2.080475e+09     NaN         NaN  ...   \n",
       "901290   01637566 Census Tract 203  3.695044e+09     NaN         NaN  ...   \n",
       "901291   01637566 Census Tract 203  3.695044e+09     NaN         NaN  ...   \n",
       "\n",
       "       leisure man_made military natural  office place  shop sport tourism  \\\n",
       "0          NaN      NaN      NaN     NaN     NaN   NaN   NaN   NaN     NaN   \n",
       "1          NaN      NaN      NaN     NaN     NaN   NaN   NaN   NaN     NaN   \n",
       "2          NaN      NaN      NaN     NaN     NaN   NaN   NaN   NaN     NaN   \n",
       "3          NaN      NaN      NaN     NaN     NaN   NaN   NaN   NaN     NaN   \n",
       "4          NaN      NaN      NaN     NaN     NaN   NaN   NaN   NaN     NaN   \n",
       "...        ...      ...      ...     ...     ...   ...   ...   ...     ...   \n",
       "901287     NaN      NaN      NaN     NaN     NaN   NaN   NaN   NaN     NaN   \n",
       "901288     NaN      NaN      NaN     NaN     NaN   NaN   NaN   NaN     NaN   \n",
       "901289     NaN      NaN      NaN     NaN     NaN   NaN   NaN   NaN     NaN   \n",
       "901290     NaN      NaN      NaN     NaN     NaN   NaN   NaN   NaN     NaN   \n",
       "901291     NaN      NaN      NaN     NaN     NaN   NaN   NaN   NaN     NaN   \n",
       "\n",
       "       landuse  \n",
       "0          NaN  \n",
       "1          NaN  \n",
       "2          NaN  \n",
       "3          NaN  \n",
       "4          NaN  \n",
       "...        ...  \n",
       "901287     NaN  \n",
       "901288     NaN  \n",
       "901289     NaN  \n",
       "901290     NaN  \n",
       "901291     NaN  \n",
       "\n",
       "[901292 rows x 27 columns]"
      ]
     },
     "execution_count": 50,
     "metadata": {},
     "output_type": "execute_result"
    }
   ],
   "source": [
    "combined"
   ]
  },
  {
   "cell_type": "code",
   "execution_count": 18,
   "metadata": {},
   "outputs": [
    {
     "data": {
      "text/plain": [
       "Index(['properties', 'id', 'Building_Area', 'GEOID', 'NAMELSAD', 'COUNTYNS',\n",
       "       'Area', 'Tract', 'osm_id', 'osm_way_id', 'aeroway', 'amenity',\n",
       "       'barrier', 'building', 'craft', 'geological', 'historic', 'land_area',\n",
       "       'leisure', 'man_made', 'military', 'natural', 'office', 'place', 'shop',\n",
       "       'sport', 'tourism', 'other_tags', 'landuse', 'other_tags_1'],\n",
       "      dtype='object')"
      ]
     },
     "execution_count": 18,
     "metadata": {},
     "output_type": "execute_result"
    }
   ],
   "source": [
    "combined.columns"
   ]
  },
  {
   "cell_type": "code",
   "execution_count": 19,
   "metadata": {},
   "outputs": [],
   "source": [
    "combined=combined.drop(columns=[ 'barrier',\n",
    "       'other_tags', 'other_tags_1'])"
   ]
  },
  {
   "cell_type": "code",
   "execution_count": 30,
   "metadata": {},
   "outputs": [],
   "source": [
    "combined=combined.drop(columns=['Join_Count', 'TARGET_FID', 'Join_Count_1', 'TARGET_FID_1',\n",
    "       'Join_Count_12', 'TARGET_FID_12', 'type', \n",
    "       'OBJECTID_1',  'ALAND', 'AWATER', 'INTPTLAT',\n",
    "       'INTPTLON',  'CLASSFP', 'FUNCSTAT', \n",
    "       'Shape_Length_1', 'Shape_Area_1',  'name',\n",
    "       'type_1',  'admin_level', 'barrier', 'boundary',\n",
    "       'other_tags', 'Shape_Length_12', 'Shape_Area_12', 'osm_id_1',\n",
    "       'osm_way_id_1', 'other_tags_1', 'Shape_Length_12_13',\n",
    "       'Shape_Area_12_13', 'Shape_Length', 'Shape_Area','name_1', 'type_12','other_tags_1', 'Shape_Length_12_13', 'Shape_Area_12_13',\n",
    "       'Shape_Length', 'Shape_Area'])"
   ]
  },
  {
   "cell_type": "code",
   "execution_count": 7,
   "metadata": {},
   "outputs": [],
   "source": [
    "combined=combined.drop(columns=['layer', 'path'])"
   ]
  },
  {
   "cell_type": "code",
   "execution_count": 22,
   "metadata": {},
   "outputs": [
    {
     "data": {
      "text/html": [
       "<div>\n",
       "<style scoped>\n",
       "    .dataframe tbody tr th:only-of-type {\n",
       "        vertical-align: middle;\n",
       "    }\n",
       "\n",
       "    .dataframe tbody tr th {\n",
       "        vertical-align: top;\n",
       "    }\n",
       "\n",
       "    .dataframe thead th {\n",
       "        text-align: right;\n",
       "    }\n",
       "</style>\n",
       "<table border=\"1\" class=\"dataframe\">\n",
       "  <thead>\n",
       "    <tr style=\"text-align: right;\">\n",
       "      <th></th>\n",
       "      <th>properties</th>\n",
       "      <th>id</th>\n",
       "      <th>Building_Area</th>\n",
       "      <th>GEOID</th>\n",
       "      <th>NAMELSAD</th>\n",
       "      <th>COUNTYNS</th>\n",
       "      <th>Area</th>\n",
       "      <th>Tract</th>\n",
       "      <th>osm_id</th>\n",
       "      <th>osm_way_id</th>\n",
       "      <th>...</th>\n",
       "      <th>leisure</th>\n",
       "      <th>man_made</th>\n",
       "      <th>military</th>\n",
       "      <th>natural</th>\n",
       "      <th>office</th>\n",
       "      <th>place</th>\n",
       "      <th>shop</th>\n",
       "      <th>sport</th>\n",
       "      <th>tourism</th>\n",
       "      <th>landuse</th>\n",
       "    </tr>\n",
       "  </thead>\n",
       "  <tbody>\n",
       "    <tr>\n",
       "      <th>0</th>\n",
       "      <td>{\"height\":3.201298713684082,\"confidence\":0.940...</td>\n",
       "      <td>0.0</td>\n",
       "      <td>129</td>\n",
       "      <td>28003950401</td>\n",
       "      <td>Census Tract 9504.01</td>\n",
       "      <td>711755</td>\n",
       "      <td>165134387.0</td>\n",
       "      <td>00711755 Census Tract 9504.01</td>\n",
       "      <td>NaN</td>\n",
       "      <td>NaN</td>\n",
       "      <td>...</td>\n",
       "      <td>NaN</td>\n",
       "      <td>NaN</td>\n",
       "      <td>NaN</td>\n",
       "      <td>NaN</td>\n",
       "      <td>NaN</td>\n",
       "      <td>NaN</td>\n",
       "      <td>NaN</td>\n",
       "      <td>NaN</td>\n",
       "      <td>NaN</td>\n",
       "      <td>NaN</td>\n",
       "    </tr>\n",
       "    <tr>\n",
       "      <th>1</th>\n",
       "      <td>{\"height\":-1.0,\"confidence\":-1.0}</td>\n",
       "      <td>1.0</td>\n",
       "      <td>343</td>\n",
       "      <td>28003950401</td>\n",
       "      <td>Census Tract 9504.01</td>\n",
       "      <td>711755</td>\n",
       "      <td>165134387.0</td>\n",
       "      <td>00711755 Census Tract 9504.01</td>\n",
       "      <td>NaN</td>\n",
       "      <td>NaN</td>\n",
       "      <td>...</td>\n",
       "      <td>NaN</td>\n",
       "      <td>NaN</td>\n",
       "      <td>NaN</td>\n",
       "      <td>NaN</td>\n",
       "      <td>NaN</td>\n",
       "      <td>NaN</td>\n",
       "      <td>NaN</td>\n",
       "      <td>NaN</td>\n",
       "      <td>NaN</td>\n",
       "      <td>NaN</td>\n",
       "    </tr>\n",
       "    <tr>\n",
       "      <th>2</th>\n",
       "      <td>{\"height\":3.4031829833984371,\"confidence\":-1.0}</td>\n",
       "      <td>2.0</td>\n",
       "      <td>424</td>\n",
       "      <td>28003950401</td>\n",
       "      <td>Census Tract 9504.01</td>\n",
       "      <td>711755</td>\n",
       "      <td>165134387.0</td>\n",
       "      <td>00711755 Census Tract 9504.01</td>\n",
       "      <td>NaN</td>\n",
       "      <td>NaN</td>\n",
       "      <td>...</td>\n",
       "      <td>NaN</td>\n",
       "      <td>NaN</td>\n",
       "      <td>NaN</td>\n",
       "      <td>NaN</td>\n",
       "      <td>NaN</td>\n",
       "      <td>NaN</td>\n",
       "      <td>NaN</td>\n",
       "      <td>NaN</td>\n",
       "      <td>NaN</td>\n",
       "      <td>NaN</td>\n",
       "    </tr>\n",
       "    <tr>\n",
       "      <th>3</th>\n",
       "      <td>{\"height\":-1.0,\"confidence\":-1.0}</td>\n",
       "      <td>3.0</td>\n",
       "      <td>98</td>\n",
       "      <td>28003950401</td>\n",
       "      <td>Census Tract 9504.01</td>\n",
       "      <td>711755</td>\n",
       "      <td>165134387.0</td>\n",
       "      <td>00711755 Census Tract 9504.01</td>\n",
       "      <td>NaN</td>\n",
       "      <td>NaN</td>\n",
       "      <td>...</td>\n",
       "      <td>NaN</td>\n",
       "      <td>NaN</td>\n",
       "      <td>NaN</td>\n",
       "      <td>NaN</td>\n",
       "      <td>NaN</td>\n",
       "      <td>NaN</td>\n",
       "      <td>NaN</td>\n",
       "      <td>NaN</td>\n",
       "      <td>NaN</td>\n",
       "      <td>NaN</td>\n",
       "    </tr>\n",
       "    <tr>\n",
       "      <th>4</th>\n",
       "      <td>{\"height\":2.2167658805847168,\"confidence\":0.98...</td>\n",
       "      <td>4.0</td>\n",
       "      <td>120</td>\n",
       "      <td>28003950402</td>\n",
       "      <td>Census Tract 9504.02</td>\n",
       "      <td>711755</td>\n",
       "      <td>161786740.0</td>\n",
       "      <td>00711755 Census Tract 9504.02</td>\n",
       "      <td>NaN</td>\n",
       "      <td>NaN</td>\n",
       "      <td>...</td>\n",
       "      <td>NaN</td>\n",
       "      <td>NaN</td>\n",
       "      <td>NaN</td>\n",
       "      <td>NaN</td>\n",
       "      <td>NaN</td>\n",
       "      <td>NaN</td>\n",
       "      <td>NaN</td>\n",
       "      <td>NaN</td>\n",
       "      <td>NaN</td>\n",
       "      <td>NaN</td>\n",
       "    </tr>\n",
       "    <tr>\n",
       "      <th>...</th>\n",
       "      <td>...</td>\n",
       "      <td>...</td>\n",
       "      <td>...</td>\n",
       "      <td>...</td>\n",
       "      <td>...</td>\n",
       "      <td>...</td>\n",
       "      <td>...</td>\n",
       "      <td>...</td>\n",
       "      <td>...</td>\n",
       "      <td>...</td>\n",
       "      <td>...</td>\n",
       "      <td>...</td>\n",
       "      <td>...</td>\n",
       "      <td>...</td>\n",
       "      <td>...</td>\n",
       "      <td>...</td>\n",
       "      <td>...</td>\n",
       "      <td>...</td>\n",
       "      <td>...</td>\n",
       "      <td>...</td>\n",
       "      <td>...</td>\n",
       "    </tr>\n",
       "    <tr>\n",
       "      <th>1703066</th>\n",
       "      <td>{\"height\":-1.0,\"confidence\":-1.0}</td>\n",
       "      <td>1703066.0</td>\n",
       "      <td>67</td>\n",
       "      <td>28071950507</td>\n",
       "      <td>Census Tract 9505.07</td>\n",
       "      <td>695759</td>\n",
       "      <td>429222134.0</td>\n",
       "      <td>00695759 Census Tract 9505.07</td>\n",
       "      <td>NaN</td>\n",
       "      <td>NaN</td>\n",
       "      <td>...</td>\n",
       "      <td>NaN</td>\n",
       "      <td>NaN</td>\n",
       "      <td>NaN</td>\n",
       "      <td>NaN</td>\n",
       "      <td>NaN</td>\n",
       "      <td>NaN</td>\n",
       "      <td>NaN</td>\n",
       "      <td>NaN</td>\n",
       "      <td>NaN</td>\n",
       "      <td>NaN</td>\n",
       "    </tr>\n",
       "    <tr>\n",
       "      <th>1703067</th>\n",
       "      <td>{\"height\":3.5323467254638672,\"confidence\":-1.0}</td>\n",
       "      <td>1703067.0</td>\n",
       "      <td>403</td>\n",
       "      <td>28013950500</td>\n",
       "      <td>Census Tract 9505</td>\n",
       "      <td>695731</td>\n",
       "      <td>23387958.0</td>\n",
       "      <td>00695731 Census Tract 9505</td>\n",
       "      <td>NaN</td>\n",
       "      <td>NaN</td>\n",
       "      <td>...</td>\n",
       "      <td>NaN</td>\n",
       "      <td>NaN</td>\n",
       "      <td>NaN</td>\n",
       "      <td>NaN</td>\n",
       "      <td>NaN</td>\n",
       "      <td>NaN</td>\n",
       "      <td>NaN</td>\n",
       "      <td>NaN</td>\n",
       "      <td>NaN</td>\n",
       "      <td>NaN</td>\n",
       "    </tr>\n",
       "    <tr>\n",
       "      <th>1703068</th>\n",
       "      <td>{\"height\":4.4618082046508789,\"confidence\":-1.0}</td>\n",
       "      <td>1703068.0</td>\n",
       "      <td>218</td>\n",
       "      <td>28071950507</td>\n",
       "      <td>Census Tract 9505.07</td>\n",
       "      <td>695759</td>\n",
       "      <td>429222134.0</td>\n",
       "      <td>00695759 Census Tract 9505.07</td>\n",
       "      <td>NaN</td>\n",
       "      <td>NaN</td>\n",
       "      <td>...</td>\n",
       "      <td>NaN</td>\n",
       "      <td>NaN</td>\n",
       "      <td>NaN</td>\n",
       "      <td>NaN</td>\n",
       "      <td>NaN</td>\n",
       "      <td>NaN</td>\n",
       "      <td>NaN</td>\n",
       "      <td>NaN</td>\n",
       "      <td>NaN</td>\n",
       "      <td>NaN</td>\n",
       "    </tr>\n",
       "    <tr>\n",
       "      <th>1703069</th>\n",
       "      <td>{\"height\":-1.0,\"confidence\":-1.0}</td>\n",
       "      <td>1703069.0</td>\n",
       "      <td>46</td>\n",
       "      <td>28013950100</td>\n",
       "      <td>Census Tract 9501</td>\n",
       "      <td>695731</td>\n",
       "      <td>657302924.0</td>\n",
       "      <td>00695731 Census Tract 9501</td>\n",
       "      <td>NaN</td>\n",
       "      <td>NaN</td>\n",
       "      <td>...</td>\n",
       "      <td>NaN</td>\n",
       "      <td>NaN</td>\n",
       "      <td>NaN</td>\n",
       "      <td>NaN</td>\n",
       "      <td>NaN</td>\n",
       "      <td>NaN</td>\n",
       "      <td>NaN</td>\n",
       "      <td>NaN</td>\n",
       "      <td>NaN</td>\n",
       "      <td>NaN</td>\n",
       "    </tr>\n",
       "    <tr>\n",
       "      <th>1703070</th>\n",
       "      <td>{\"height\":3.3905560970306392,\"confidence\":-1.0}</td>\n",
       "      <td>1703070.0</td>\n",
       "      <td>84</td>\n",
       "      <td>28013950500</td>\n",
       "      <td>Census Tract 9505</td>\n",
       "      <td>695731</td>\n",
       "      <td>23387958.0</td>\n",
       "      <td>00695731 Census Tract 9505</td>\n",
       "      <td>NaN</td>\n",
       "      <td>NaN</td>\n",
       "      <td>...</td>\n",
       "      <td>NaN</td>\n",
       "      <td>NaN</td>\n",
       "      <td>NaN</td>\n",
       "      <td>NaN</td>\n",
       "      <td>NaN</td>\n",
       "      <td>NaN</td>\n",
       "      <td>NaN</td>\n",
       "      <td>NaN</td>\n",
       "      <td>NaN</td>\n",
       "      <td>NaN</td>\n",
       "    </tr>\n",
       "  </tbody>\n",
       "</table>\n",
       "<p>1703071 rows × 27 columns</p>\n",
       "</div>"
      ],
      "text/plain": [
       "                                                properties         id  \\\n",
       "0        {\"height\":3.201298713684082,\"confidence\":0.940...        0.0   \n",
       "1                        {\"height\":-1.0,\"confidence\":-1.0}        1.0   \n",
       "2          {\"height\":3.4031829833984371,\"confidence\":-1.0}        2.0   \n",
       "3                        {\"height\":-1.0,\"confidence\":-1.0}        3.0   \n",
       "4        {\"height\":2.2167658805847168,\"confidence\":0.98...        4.0   \n",
       "...                                                    ...        ...   \n",
       "1703066                  {\"height\":-1.0,\"confidence\":-1.0}  1703066.0   \n",
       "1703067    {\"height\":3.5323467254638672,\"confidence\":-1.0}  1703067.0   \n",
       "1703068    {\"height\":4.4618082046508789,\"confidence\":-1.0}  1703068.0   \n",
       "1703069                  {\"height\":-1.0,\"confidence\":-1.0}  1703069.0   \n",
       "1703070    {\"height\":3.3905560970306392,\"confidence\":-1.0}  1703070.0   \n",
       "\n",
       "         Building_Area        GEOID              NAMELSAD  COUNTYNS  \\\n",
       "0                  129  28003950401  Census Tract 9504.01    711755   \n",
       "1                  343  28003950401  Census Tract 9504.01    711755   \n",
       "2                  424  28003950401  Census Tract 9504.01    711755   \n",
       "3                   98  28003950401  Census Tract 9504.01    711755   \n",
       "4                  120  28003950402  Census Tract 9504.02    711755   \n",
       "...                ...          ...                   ...       ...   \n",
       "1703066             67  28071950507  Census Tract 9505.07    695759   \n",
       "1703067            403  28013950500     Census Tract 9505    695731   \n",
       "1703068            218  28071950507  Census Tract 9505.07    695759   \n",
       "1703069             46  28013950100     Census Tract 9501    695731   \n",
       "1703070             84  28013950500     Census Tract 9505    695731   \n",
       "\n",
       "                Area                          Tract  osm_id  osm_way_id  ...  \\\n",
       "0        165134387.0  00711755 Census Tract 9504.01     NaN         NaN  ...   \n",
       "1        165134387.0  00711755 Census Tract 9504.01     NaN         NaN  ...   \n",
       "2        165134387.0  00711755 Census Tract 9504.01     NaN         NaN  ...   \n",
       "3        165134387.0  00711755 Census Tract 9504.01     NaN         NaN  ...   \n",
       "4        161786740.0  00711755 Census Tract 9504.02     NaN         NaN  ...   \n",
       "...              ...                            ...     ...         ...  ...   \n",
       "1703066  429222134.0  00695759 Census Tract 9505.07     NaN         NaN  ...   \n",
       "1703067   23387958.0     00695731 Census Tract 9505     NaN         NaN  ...   \n",
       "1703068  429222134.0  00695759 Census Tract 9505.07     NaN         NaN  ...   \n",
       "1703069  657302924.0     00695731 Census Tract 9501     NaN         NaN  ...   \n",
       "1703070   23387958.0     00695731 Census Tract 9505     NaN         NaN  ...   \n",
       "\n",
       "        leisure man_made military natural  office place  shop sport tourism  \\\n",
       "0           NaN      NaN      NaN     NaN     NaN   NaN   NaN   NaN     NaN   \n",
       "1           NaN      NaN      NaN     NaN     NaN   NaN   NaN   NaN     NaN   \n",
       "2           NaN      NaN      NaN     NaN     NaN   NaN   NaN   NaN     NaN   \n",
       "3           NaN      NaN      NaN     NaN     NaN   NaN   NaN   NaN     NaN   \n",
       "4           NaN      NaN      NaN     NaN     NaN   NaN   NaN   NaN     NaN   \n",
       "...         ...      ...      ...     ...     ...   ...   ...   ...     ...   \n",
       "1703066     NaN      NaN      NaN     NaN     NaN   NaN   NaN   NaN     NaN   \n",
       "1703067     NaN      NaN      NaN     NaN     NaN   NaN   NaN   NaN     NaN   \n",
       "1703068     NaN      NaN      NaN     NaN     NaN   NaN   NaN   NaN     NaN   \n",
       "1703069     NaN      NaN      NaN     NaN     NaN   NaN   NaN   NaN     NaN   \n",
       "1703070     NaN      NaN      NaN     NaN     NaN   NaN   NaN   NaN     NaN   \n",
       "\n",
       "        landuse  \n",
       "0           NaN  \n",
       "1           NaN  \n",
       "2           NaN  \n",
       "3           NaN  \n",
       "4           NaN  \n",
       "...         ...  \n",
       "1703066     NaN  \n",
       "1703067     NaN  \n",
       "1703068     NaN  \n",
       "1703069     NaN  \n",
       "1703070     NaN  \n",
       "\n",
       "[1703071 rows x 27 columns]"
      ]
     },
     "execution_count": 22,
     "metadata": {},
     "output_type": "execute_result"
    }
   ],
   "source": [
    "combined"
   ]
  },
  {
   "cell_type": "code",
   "execution_count": 20,
   "metadata": {},
   "outputs": [
    {
     "data": {
      "text/plain": [
       "3426269"
      ]
     },
     "execution_count": 20,
     "metadata": {},
     "output_type": "execute_result"
    }
   ],
   "source": [
    "len(combined)"
   ]
  },
  {
   "cell_type": "code",
   "execution_count": 21,
   "metadata": {},
   "outputs": [
    {
     "data": {
      "text/plain": [
       "array(['yes', nan, 'church', 'house', 'hotel', 'retail', 'static_caravan',\n",
       "       'commercial', 'school', 'shed', 'roof', 'toilets', 'hospital',\n",
       "       'chapel', 'silo', 'garage', 'semidetached_house', 'industrial',\n",
       "       'apartments', 'residential', 'mobile_home', 'garages', 'hangar',\n",
       "       'storage', 'warehouse', 'greenhouse', 'government', 'detached',\n",
       "       'office', 'motel', 'prison', 'terrace', 'barn', 'sports_centre',\n",
       "       'manufacture', 'religious', 'train_station', 'dormitory', 'bank',\n",
       "       'grandstand', 'public', 'retail;shed;yes', 'construction',\n",
       "       'roof;yes', 'service', 'college', 'portable_classroom',\n",
       "       'storage_tank', 'fire_station', 'carport', 'cabin', 'utility',\n",
       "       'Manager Skagit Valley Apartments', 'farm_auxiliary',\n",
       "       'Granite Falls', 'stable', 'gatehouse', 'civic', 'cowshed',\n",
       "       'boathouse', 'dome', 'bungalow', 'ger', 'data_center',\n",
       "       'university', 'kindergarten', 'parking', 'yes;house', 'bridge',\n",
       "       'hut', 'farm', 'stadium', 'community_center', 'fire_lookout',\n",
       "       'store', 'restaurant', 'brewery', 'outbuilding', 'portables',\n",
       "       'water_tower', 'underground', 'self_storage', 'laundromat',\n",
       "       'library', 'transportation', 'theatre', 'masonic_lodge',\n",
       "       'houseboat', 'tower', 'guardhouse', 'tent', 'shelter', 'bakehouse',\n",
       "       'market', 'vacant', 'kiosk', 'central_office', 'Resturant',\n",
       "       'mixed_use', 'temple', 'condominiums', 'ruins', 'health_House',\n",
       "       'portable', 'pavilion', 'masonic', 'healthcare', 'tech_cab',\n",
       "       'granary', 'livestock', 'government_office', 'auditorium',\n",
       "       'collapsed', 'shop', 'residential;yes', 'SH', 'public;yes',\n",
       "       'arena', 'shed;retail', 'stilt_house', 'National_Guard',\n",
       "       'retail;yes', 'yes;commercial', 'yeso', 'mosque', 'commercial;yes',\n",
       "       'yes;ROO', 'sports_hall', 'storage_rental', 'supermarket',\n",
       "       'container', 'detached;yes', 'car_wash', 'picnic_shelter',\n",
       "       'detatched', 'G', 'guesthouse', 'bunker', 'cathedral', 'train',\n",
       "       'yes;roof', 'demolished', 'workshop', 'butcher', 'monastery',\n",
       "       'gazebo', 'floating_home', 'parking_garage', 'barracks', 'covered',\n",
       "       'education', 'manufactured', 'Retirement_Community',\n",
       "       'commercial;residential', 'poolhouse', 'synagogue', 'sty', 'ship',\n",
       "       'weight_house', 'lighthouse', 'art_studio', 'police',\n",
       "       'yes;church;roof', '2509', 'unclassified', 'fire station',\n",
       "       'kingdom Hall', 'caboose', 'cinema', 'museum', 'townhall',\n",
       "       'abandoned'], dtype=object)"
      ]
     },
     "execution_count": 21,
     "metadata": {},
     "output_type": "execute_result"
    }
   ],
   "source": [
    "combined[\"building\"].unique()"
   ]
  },
  {
   "cell_type": "markdown",
   "metadata": {},
   "source": [
    "Get Buildings which are labeled with something other than 'yes'"
   ]
  },
  {
   "cell_type": "code",
   "execution_count": 22,
   "metadata": {},
   "outputs": [],
   "source": [
    "labeled=combined[(combined[\"building\"].notnull())&(combined[\"building\"]!='yes')]"
   ]
  },
  {
   "cell_type": "code",
   "execution_count": 2,
   "metadata": {},
   "outputs": [],
   "source": [
    "import ast"
   ]
  },
  {
   "cell_type": "code",
   "execution_count": 23,
   "metadata": {},
   "outputs": [
    {
     "data": {
      "text/plain": [
       "544115"
      ]
     },
     "execution_count": 23,
     "metadata": {},
     "output_type": "execute_result"
    }
   ],
   "source": [
    "len(labeled)"
   ]
  },
  {
   "cell_type": "markdown",
   "metadata": {},
   "source": [
    "Add a Height attribute to the buildings"
   ]
  },
  {
   "cell_type": "code",
   "execution_count": 3,
   "metadata": {},
   "outputs": [],
   "source": [
    "def add_height(x):\n",
    "    t=ast.literal_eval(x)\n",
    "    if t[\"height\"]<0:\n",
    "        return None\n",
    "    return t[\"height\"]"
   ]
  },
  {
   "cell_type": "code",
   "execution_count": 24,
   "metadata": {},
   "outputs": [
    {
     "name": "stderr",
     "output_type": "stream",
     "text": [
      "C:\\Users\\nairk\\AppData\\Local\\Temp\\ipykernel_37644\\3654869957.py:1: SettingWithCopyWarning: \n",
      "A value is trying to be set on a copy of a slice from a DataFrame.\n",
      "Try using .loc[row_indexer,col_indexer] = value instead\n",
      "\n",
      "See the caveats in the documentation: https://pandas.pydata.org/pandas-docs/stable/user_guide/indexing.html#returning-a-view-versus-a-copy\n",
      "  labeled[\"Height\"]=labeled[\"properties\"].apply(add_height)\n"
     ]
    }
   ],
   "source": [
    "labeled[\"Height\"]=labeled[\"properties\"].apply(add_height)"
   ]
  },
  {
   "cell_type": "code",
   "execution_count": 84,
   "metadata": {},
   "outputs": [
    {
     "name": "stderr",
     "output_type": "stream",
     "text": [
      "C:\\Users\\nairk\\AppData\\Local\\Temp\\ipykernel_11236\\3196967565.py:1: SettingWithCopyWarning: \n",
      "A value is trying to be set on a copy of a slice from a DataFrame\n",
      "\n",
      "See the caveats in the documentation: https://pandas.pydata.org/pandas-docs/stable/user_guide/indexing.html#returning-a-view-versus-a-copy\n",
      "  labeled.rename(columns={'Area': 'Building_Area', 'Area_1': 'Area'}, inplace=True)\n"
     ]
    }
   ],
   "source": [
    "labeled.rename(columns={'Area': 'Building_Area', 'Area_1': 'Area'}, inplace=True)"
   ]
  },
  {
   "cell_type": "markdown",
   "metadata": {},
   "source": [
    "Drop unnecessory columns"
   ]
  },
  {
   "cell_type": "code",
   "execution_count": 25,
   "metadata": {},
   "outputs": [],
   "source": [
    "labeled=labeled.drop(columns=['properties', 'id','GEOID', 'NAMELSAD', 'COUNTYNS', 'Tract',\n",
    "       'Area', 'osm_id', 'osm_way_id'])"
   ]
  },
  {
   "cell_type": "markdown",
   "metadata": {},
   "source": [
    "Add a Square Footage attribute to the buildings"
   ]
  },
  {
   "cell_type": "code",
   "execution_count": 13,
   "metadata": {},
   "outputs": [],
   "source": [
    "def squarefootage(row):\n",
    "    if row[\"Height\"] != None and row[\"Building_Area\"]!=None:\n",
    "        return (row[\"Height\"] * row[\"Building_Area\"])/3\n",
    "    else:\n",
    "        return None"
   ]
  },
  {
   "cell_type": "code",
   "execution_count": 26,
   "metadata": {},
   "outputs": [],
   "source": [
    "labeled[\"Square_Footage\"]=labeled.apply(squarefootage,axis=1)"
   ]
  },
  {
   "cell_type": "markdown",
   "metadata": {},
   "source": [
    "Store labled buildings to CSV"
   ]
  },
  {
   "cell_type": "code",
   "execution_count": 27,
   "metadata": {},
   "outputs": [],
   "source": [
    "labeled.to_csv(\"C:\\\\Users\\\\nairk\\\\census-by-precincts\\\\info\\\\Labeled_Buildings\\\\WA_Labeled.csv\",index=False)"
   ]
  },
  {
   "cell_type": "markdown",
   "metadata": {},
   "source": [
    "Classifier Training"
   ]
  },
  {
   "cell_type": "markdown",
   "metadata": {},
   "source": [
    "Load all labeled building files"
   ]
  },
  {
   "cell_type": "code",
   "execution_count": 4,
   "metadata": {},
   "outputs": [],
   "source": [
    "buildings=[]"
   ]
  },
  {
   "cell_type": "code",
   "execution_count": 5,
   "metadata": {},
   "outputs": [
    {
     "name": "stderr",
     "output_type": "stream",
     "text": [
      "C:\\Users\\nairk\\AppData\\Local\\Temp\\ipykernel_1064\\1436104920.py:7: DtypeWarning: Columns (1,10,15) have mixed types. Specify dtype option on import or set low_memory=False.\n",
      "  row=pd.read_csv(path)\n"
     ]
    },
    {
     "name": "stdout",
     "output_type": "stream",
     "text": [
      "20\n"
     ]
    },
    {
     "name": "stderr",
     "output_type": "stream",
     "text": [
      "C:\\Users\\nairk\\AppData\\Local\\Temp\\ipykernel_1064\\1436104920.py:7: DtypeWarning: Columns (1,4,6,8,9,10,11,12,15,16) have mixed types. Specify dtype option on import or set low_memory=False.\n",
      "  row=pd.read_csv(path)\n"
     ]
    },
    {
     "name": "stdout",
     "output_type": "stream",
     "text": [
      "20\n"
     ]
    },
    {
     "name": "stderr",
     "output_type": "stream",
     "text": [
      "C:\\Users\\nairk\\AppData\\Local\\Temp\\ipykernel_1064\\1436104920.py:7: DtypeWarning: Columns (1,4,6,8,10,11,13,15) have mixed types. Specify dtype option on import or set low_memory=False.\n",
      "  row=pd.read_csv(path)\n"
     ]
    },
    {
     "name": "stdout",
     "output_type": "stream",
     "text": [
      "20\n"
     ]
    },
    {
     "name": "stderr",
     "output_type": "stream",
     "text": [
      "C:\\Users\\nairk\\AppData\\Local\\Temp\\ipykernel_1064\\1436104920.py:7: DtypeWarning: Columns (1,4,6,9,10) have mixed types. Specify dtype option on import or set low_memory=False.\n",
      "  row=pd.read_csv(path)\n"
     ]
    },
    {
     "name": "stdout",
     "output_type": "stream",
     "text": [
      "20\n"
     ]
    },
    {
     "name": "stderr",
     "output_type": "stream",
     "text": [
      "C:\\Users\\nairk\\AppData\\Local\\Temp\\ipykernel_1064\\1436104920.py:7: DtypeWarning: Columns (1,4) have mixed types. Specify dtype option on import or set low_memory=False.\n",
      "  row=pd.read_csv(path)\n"
     ]
    },
    {
     "name": "stdout",
     "output_type": "stream",
     "text": [
      "20\n"
     ]
    },
    {
     "name": "stderr",
     "output_type": "stream",
     "text": [
      "C:\\Users\\nairk\\AppData\\Local\\Temp\\ipykernel_1064\\1436104920.py:7: DtypeWarning: Columns (1,4,6,9,10,11,12,15) have mixed types. Specify dtype option on import or set low_memory=False.\n",
      "  row=pd.read_csv(path)\n"
     ]
    },
    {
     "name": "stdout",
     "output_type": "stream",
     "text": [
      "20\n"
     ]
    },
    {
     "name": "stderr",
     "output_type": "stream",
     "text": [
      "C:\\Users\\nairk\\AppData\\Local\\Temp\\ipykernel_1064\\1436104920.py:7: DtypeWarning: Columns (1,4,6,10,13,15) have mixed types. Specify dtype option on import or set low_memory=False.\n",
      "  row=pd.read_csv(path)\n"
     ]
    },
    {
     "name": "stdout",
     "output_type": "stream",
     "text": [
      "20\n"
     ]
    },
    {
     "name": "stderr",
     "output_type": "stream",
     "text": [
      "C:\\Users\\nairk\\AppData\\Local\\Temp\\ipykernel_1064\\1436104920.py:7: DtypeWarning: Columns (1,4,10,13,15) have mixed types. Specify dtype option on import or set low_memory=False.\n",
      "  row=pd.read_csv(path)\n"
     ]
    },
    {
     "name": "stdout",
     "output_type": "stream",
     "text": [
      "20\n",
      "20\n"
     ]
    },
    {
     "name": "stderr",
     "output_type": "stream",
     "text": [
      "C:\\Users\\nairk\\AppData\\Local\\Temp\\ipykernel_1064\\1436104920.py:7: DtypeWarning: Columns (8,10,11) have mixed types. Specify dtype option on import or set low_memory=False.\n",
      "  row=pd.read_csv(path)\n"
     ]
    },
    {
     "name": "stdout",
     "output_type": "stream",
     "text": [
      "20\n"
     ]
    },
    {
     "name": "stderr",
     "output_type": "stream",
     "text": [
      "C:\\Users\\nairk\\AppData\\Local\\Temp\\ipykernel_1064\\1436104920.py:7: DtypeWarning: Columns (1,8,10,11) have mixed types. Specify dtype option on import or set low_memory=False.\n",
      "  row=pd.read_csv(path)\n"
     ]
    },
    {
     "name": "stdout",
     "output_type": "stream",
     "text": [
      "20\n"
     ]
    },
    {
     "name": "stderr",
     "output_type": "stream",
     "text": [
      "C:\\Users\\nairk\\AppData\\Local\\Temp\\ipykernel_1064\\1436104920.py:7: DtypeWarning: Columns (1,4,6,8,9,11,12,15,17) have mixed types. Specify dtype option on import or set low_memory=False.\n",
      "  row=pd.read_csv(path)\n"
     ]
    },
    {
     "name": "stdout",
     "output_type": "stream",
     "text": [
      "20\n"
     ]
    },
    {
     "name": "stderr",
     "output_type": "stream",
     "text": [
      "C:\\Users\\nairk\\AppData\\Local\\Temp\\ipykernel_1064\\1436104920.py:7: DtypeWarning: Columns (1,4,6,10) have mixed types. Specify dtype option on import or set low_memory=False.\n",
      "  row=pd.read_csv(path)\n"
     ]
    },
    {
     "name": "stdout",
     "output_type": "stream",
     "text": [
      "20\n"
     ]
    },
    {
     "name": "stderr",
     "output_type": "stream",
     "text": [
      "C:\\Users\\nairk\\AppData\\Local\\Temp\\ipykernel_1064\\1436104920.py:7: DtypeWarning: Columns (1,6,9,10,15) have mixed types. Specify dtype option on import or set low_memory=False.\n",
      "  row=pd.read_csv(path)\n"
     ]
    },
    {
     "name": "stdout",
     "output_type": "stream",
     "text": [
      "20\n",
      "20\n",
      "20\n"
     ]
    },
    {
     "name": "stderr",
     "output_type": "stream",
     "text": [
      "C:\\Users\\nairk\\AppData\\Local\\Temp\\ipykernel_1064\\1436104920.py:7: DtypeWarning: Columns (10) have mixed types. Specify dtype option on import or set low_memory=False.\n",
      "  row=pd.read_csv(path)\n",
      "C:\\Users\\nairk\\AppData\\Local\\Temp\\ipykernel_1064\\1436104920.py:7: DtypeWarning: Columns (4,15) have mixed types. Specify dtype option on import or set low_memory=False.\n",
      "  row=pd.read_csv(path)\n",
      "C:\\Users\\nairk\\AppData\\Local\\Temp\\ipykernel_1064\\1436104920.py:7: DtypeWarning: Columns (1,4,9) have mixed types. Specify dtype option on import or set low_memory=False.\n",
      "  row=pd.read_csv(path)\n"
     ]
    },
    {
     "name": "stdout",
     "output_type": "stream",
     "text": [
      "20\n"
     ]
    },
    {
     "name": "stderr",
     "output_type": "stream",
     "text": [
      "C:\\Users\\nairk\\AppData\\Local\\Temp\\ipykernel_1064\\1436104920.py:7: DtypeWarning: Columns (1,4,6,10,15) have mixed types. Specify dtype option on import or set low_memory=False.\n",
      "  row=pd.read_csv(path)\n"
     ]
    },
    {
     "name": "stdout",
     "output_type": "stream",
     "text": [
      "20\n"
     ]
    },
    {
     "name": "stderr",
     "output_type": "stream",
     "text": [
      "C:\\Users\\nairk\\AppData\\Local\\Temp\\ipykernel_1064\\1436104920.py:7: DtypeWarning: Columns (1,4,6,8,10,15,16) have mixed types. Specify dtype option on import or set low_memory=False.\n",
      "  row=pd.read_csv(path)\n"
     ]
    },
    {
     "name": "stdout",
     "output_type": "stream",
     "text": [
      "20\n"
     ]
    },
    {
     "name": "stderr",
     "output_type": "stream",
     "text": [
      "C:\\Users\\nairk\\AppData\\Local\\Temp\\ipykernel_1064\\1436104920.py:7: DtypeWarning: Columns (1,8,10,15) have mixed types. Specify dtype option on import or set low_memory=False.\n",
      "  row=pd.read_csv(path)\n"
     ]
    },
    {
     "name": "stdout",
     "output_type": "stream",
     "text": [
      "20\n"
     ]
    },
    {
     "name": "stderr",
     "output_type": "stream",
     "text": [
      "C:\\Users\\nairk\\AppData\\Local\\Temp\\ipykernel_1064\\1436104920.py:7: DtypeWarning: Columns (1,6,10,11,15) have mixed types. Specify dtype option on import or set low_memory=False.\n",
      "  row=pd.read_csv(path)\n"
     ]
    },
    {
     "name": "stdout",
     "output_type": "stream",
     "text": [
      "20\n"
     ]
    },
    {
     "name": "stderr",
     "output_type": "stream",
     "text": [
      "C:\\Users\\nairk\\AppData\\Local\\Temp\\ipykernel_1064\\1436104920.py:7: DtypeWarning: Columns (1,4,6,8,9,10,12,15) have mixed types. Specify dtype option on import or set low_memory=False.\n",
      "  row=pd.read_csv(path)\n"
     ]
    },
    {
     "name": "stdout",
     "output_type": "stream",
     "text": [
      "20\n"
     ]
    },
    {
     "name": "stderr",
     "output_type": "stream",
     "text": [
      "C:\\Users\\nairk\\AppData\\Local\\Temp\\ipykernel_1064\\1436104920.py:7: DtypeWarning: Columns (1,4,6,8,9,10,12,15) have mixed types. Specify dtype option on import or set low_memory=False.\n",
      "  row=pd.read_csv(path)\n"
     ]
    },
    {
     "name": "stdout",
     "output_type": "stream",
     "text": [
      "20\n"
     ]
    },
    {
     "name": "stderr",
     "output_type": "stream",
     "text": [
      "C:\\Users\\nairk\\AppData\\Local\\Temp\\ipykernel_1064\\1436104920.py:7: DtypeWarning: Columns (1,6,8,10) have mixed types. Specify dtype option on import or set low_memory=False.\n",
      "  row=pd.read_csv(path)\n"
     ]
    },
    {
     "name": "stdout",
     "output_type": "stream",
     "text": [
      "20\n"
     ]
    },
    {
     "name": "stderr",
     "output_type": "stream",
     "text": [
      "C:\\Users\\nairk\\AppData\\Local\\Temp\\ipykernel_1064\\1436104920.py:7: DtypeWarning: Columns (4,6,10,11,16) have mixed types. Specify dtype option on import or set low_memory=False.\n",
      "  row=pd.read_csv(path)\n"
     ]
    },
    {
     "name": "stdout",
     "output_type": "stream",
     "text": [
      "20\n",
      "20\n"
     ]
    },
    {
     "name": "stderr",
     "output_type": "stream",
     "text": [
      "C:\\Users\\nairk\\AppData\\Local\\Temp\\ipykernel_1064\\1436104920.py:7: DtypeWarning: Columns (1,4,8,15) have mixed types. Specify dtype option on import or set low_memory=False.\n",
      "  row=pd.read_csv(path)\n"
     ]
    }
   ],
   "source": [
    "import os\n",
    "\n",
    "directory = \"C:\\\\Users\\\\nairk\\\\census-by-precincts\\\\info\\\\Labeled_Buildings\"\n",
    "for file in os.listdir(directory):\n",
    "    path = os.path.join(directory, file)\n",
    "    if os.path.isfile(path):\n",
    "        row=pd.read_csv(path)\n",
    "        print(len(row.columns))\n",
    "        buildings.append(row)\n",
    "    else:\n",
    "        print(\"NO FILE\")"
   ]
  },
  {
   "cell_type": "markdown",
   "metadata": {},
   "source": [
    "Combine Building Files"
   ]
  },
  {
   "cell_type": "code",
   "execution_count": 6,
   "metadata": {},
   "outputs": [],
   "source": [
    "labeled=pd.concat(buildings,ignore_index=True)"
   ]
  },
  {
   "cell_type": "markdown",
   "metadata": {},
   "source": [
    "Check for existing Labels"
   ]
  },
  {
   "cell_type": "code",
   "execution_count": 43,
   "metadata": {},
   "outputs": [
    {
     "data": {
      "text/plain": [
       "array([nan, 'hangar', 'terminal', 'helipad', 'launchpad', 'tower'],\n",
       "      dtype=object)"
      ]
     },
     "execution_count": 43,
     "metadata": {},
     "output_type": "execute_result"
    }
   ],
   "source": [
    "labeled.aeroway.unique()"
   ]
  },
  {
   "cell_type": "code",
   "execution_count": 46,
   "metadata": {},
   "outputs": [
    {
     "data": {
      "text/plain": [
       "array([nan, 'place_of_worship', 'fuel', 'car_wash', 'courthouse',\n",
       "       'police', 'pharmacy', 'fire_station', 'bank', 'fast_food',\n",
       "       'restaurant', 'social_facility', 'dentist', 'childcare', 'cafe',\n",
       "       'hospital', 'events_venue', 'shelter', 'school', 'parking',\n",
       "       'monastery', 'post_office', 'doctors', 'townhall', 'marketplace',\n",
       "       'library', 'veterinary', 'car_wash;dog_wash', 'university',\n",
       "       'car_rental', 'nursing_home', 'clinic', 'theatre', 'kindergarten',\n",
       "       'toilets', 'recycling', 'ice_cream', 'bar', 'studio',\n",
       "       'community_centre', 'pub', 'animal_shelter', 'bus_station',\n",
       "       'arts_centre', 'cinema', 'music_venue', 'boat_rental',\n",
       "       'boat_storage', 'gas', 'vehicle_inspection', 'ranger_station',\n",
       "       'animal_boarding', 'dojo', 'mailroom', 'post_depot',\n",
       "       'truck_rental', 'casino', 'social_centre', 'college', 'nightclub',\n",
       "       'internet_cafe', 'prison', 'roller_rink', 'bicycle_parking',\n",
       "       'music_school', 'stripclub', 'bbq', 'office', 'chiropractor',\n",
       "       'research_institute', 'public_building', 'storage',\n",
       "       'public_facility', 'cold_storage', 'conference_centre', 'mortuary',\n",
       "       'check_cashing', 'flight_school', 'public_bath', 'animal_breeding',\n",
       "       'ski_rental', 'art_gallery', 'yacht_club', 'training',\n",
       "       'cruise_terminal', 'ferry_terminal', 'dressing_room', 'bench',\n",
       "       'open_air_stage', 'senior housing', 'clubhouse', 'reception_desk',\n",
       "       'meditation_centre', 'gambling', 'food_court', 'canteen',\n",
       "       'amphitheatre', 'framing', 'stage', 'senior_center', 'locker',\n",
       "       'waste_disposal', 'Aviation Laboratory', 'grave_yard',\n",
       "       'main theater', 'practice rooms', 'surface',\n",
       "       'laundry_room;mail_box;gym', 'Elementary School', 'field_shelter',\n",
       "       'fuel;car_wash', 'prep_school', 'waste_transfer_station',\n",
       "       'trade_school', 'security_booth', 'shower', 'dental',\n",
       "       'Casitas Del Sol', 'health_club', 'cafe;restaurant', 'crematorium',\n",
       "       'retirement_home', 'hotel', 'fast_food;bicycle_rental',\n",
       "       'bank;fire_station;fast_food', 'mexican_restaurant', 'atm',\n",
       "       'planetarium', 'coffee', 'self_storage', 'wedding_chapel', 'spa',\n",
       "       'daycare', 'student_accommodation', 'emergency_service',\n",
       "       'Fishbowl', 'apartments', 'telescope', 'grocery store',\n",
       "       'dormitory', 'Counseling', 'event_hall', 'government',\n",
       "       'orthodontist', 'realtor', 'healthcare', 'driving_school', 'taxi',\n",
       "       'fuel;fast_food', 'toilets;fuel', 'Condos', 'vending_machine',\n",
       "       'dive_centre', 'oil_change', 'elementary',\n",
       "       'bankname=Hancock Whitney Bank', 'bicycle_rental',\n",
       "       'aircraft_rental', 'bank;atm', 'funeral_home', 'kitchen',\n",
       "       'letter_box', 'indoor_range', 'motel', 'coworking_space',\n",
       "       'equipment_rental', 'storage_rental', 'leasing_office', 'post_box',\n",
       "       'furniture_rental', 'parcel_locker', 'hookah_lounge',\n",
       "       'money_transfer', 'motorcycle_parking', 'bureau_de_change',\n",
       "       'fixme', 'dog_grooming', 'financial', 'workshop', 'payment_centre',\n",
       "       'fraternity', 'language_school', 'stables', 'concession',\n",
       "       'events_venue;theatre', 'cultural_centre', 'parking_space',\n",
       "       'conference_center', 'charity', 'welfare', 'vacuum_cleaner',\n",
       "       'disused', 'disused:place_of_worship', 'warehouse',\n",
       "       'dancing_school', '911 call center',\n",
       "       'Motor Vehicle Administration', 'place_of_worship;school',\n",
       "       'biergarten', 'jobcentre', 'Shopping', 'social_club',\n",
       "       'fortune_teller', 'archive', 'harbourmaster', 'industrial',\n",
       "       'motorcycle_rental', 'events_centre', 'concert_hall', 'vacant',\n",
       "       'exhibition_centre', 'bar/restaurant', 'public_building;shelter',\n",
       "       'bar;restaurant', 'chiro', 'pub;restaurant', 'nature_center',\n",
       "       'funeral_hall', 'apartment', 'convenience_store', 'ballroom',\n",
       "       'ski_school;ski_rental', 'hairdresser', 'parking;place_of_worship',\n",
       "       'parking;post_office', 'fun', 'truck_stop', 'compressed_air',\n",
       "       'parking_lot', 'accounting', 'dry_cleaner', 'undertaker',\n",
       "       'drinking_water', 'ski_patrol', 'boat_sharing', 'Mobile Detailing',\n",
       "       'bicycle_repair_station', 'charging_station', 'hostel',\n",
       "       'bus_garage', 'research_center', 'banquet_hall',\n",
       "       'transmission repair', 'tool_library', 'karaoke_box',\n",
       "       'stock_exchange', 'bandstand', 'bleachers', 'concession_stand',\n",
       "       'clock', 'first_aid', 'social_center', 'car_rental;bicycle_rental',\n",
       "       'rent_to_own', 'townhall;police', 'East Residence Halls',\n",
       "       'USDA agricultural research service', 'snack_bar',\n",
       "       'disused;school', 'church', 'education_centre', 'toliets',\n",
       "       'swimming_school', 'event_venue', 'animal_training', 'Car repair',\n",
       "       'polling_station', 'auditorium', 'lounge', 'licensing',\n",
       "       'home_health', 'water_point', 'ice_cream;shaved_ice',\n",
       "       'building_yard', 'checkpoint', 'fieldhouse', 'swingerclub',\n",
       "       'garage', 'meat_processor', 'truck_wash', 'Modular Classrooms',\n",
       "       'courthouse;police', 'snackbar', 'commercial', 'pet_grooming',\n",
       "       'ophthalmologist', 'comedy_club', 'customs', 'give_box',\n",
       "       'restaurant;cafe', 'cosmetology_school', 'sorority',\n",
       "       'funeral_directors', 'rectory', 'construction'], dtype=object)"
      ]
     },
     "execution_count": 46,
     "metadata": {},
     "output_type": "execute_result"
    }
   ],
   "source": [
    "labeled.amenity.unique()"
   ]
  },
  {
   "cell_type": "code",
   "execution_count": 47,
   "metadata": {},
   "outputs": [
    {
     "data": {
      "text/plain": [
       "array([nan, 'plumber', 'roofer', 'caterer', 'cleaning',\n",
       "       'electronics_repair', 'photographer', 'signmaker', 'hvac',\n",
       "       'glaziery', 'floorer', 'pottery', 'brewery', 'gardener',\n",
       "       'shoemaker', 'welder', 'drilling', 'electrician', 'stonework',\n",
       "       'metal_construction', 'stonemason', 'water_rafting', 'builder',\n",
       "       'building_restoration', 'insulation', 'picture_frame_maker',\n",
       "       'boatbuilder', 'carpenter', 'painter', 'tinsmith', 'upholsterer',\n",
       "       'winery', 'construction', 'sawmill', 'key_cutter', 'fire_safety',\n",
       "       'car_repair', 'excavation', 'sun_protection', 'atelier',\n",
       "       'locksmith', 'distillery', 'yes', 'monumental_mason', 'printer',\n",
       "       'photographic_laboratory', 'joiner', 'pest_control',\n",
       "       'window_construction', 'carpet_layer', 'repair', 'machinery',\n",
       "       'concrete', 'blacksmith', 'plumber;hvac', 'mechanic', 'embroider',\n",
       "       'confectionery', 'photo_studio', 'print_shop', 'ceramic',\n",
       "       'engraver', 'embroiderer', 'water_well_drilling', 'heater',\n",
       "       'patio', 'sculptor', 'furniture', 'steel', 'general_contractor',\n",
       "       'agricultural_engines', 'clockmaker', 'bookbinder', 'optician',\n",
       "       'bakery', 'orthodontist', 'machine', 'sharpening',\n",
       "       'bathtub_reglazing', 'contractor', 'jeweller', 'psychic',\n",
       "       'builder;construction', 'luthier', 'tailor', 'artist', 'paver',\n",
       "       'doors', 'tiler', 'jewller', 'rug_maker', 'handicraft', 'bicycle',\n",
       "       'cobbler', 'cabinet_maker', 'marketing',\n",
       "       'flagmaker;flagpole_installer', 'interior_decorator', 'glass',\n",
       "       'metal_works', 'plasterer', 'toolmaker', 'garage_construction',\n",
       "       'organ_builder', 'gardner', 'glassblower', 'piano_tuner', 'mason',\n",
       "       'screen_printing', 'interior_work', 'cidery', 'art', 'cabinetry',\n",
       "       'irrigation', 'kitchen', 'lawn_care', 'waterproofing',\n",
       "       'fire_protection', 'wire_forming', 'silversmith', 'carpet_cleaner',\n",
       "       'powder coating'], dtype=object)"
      ]
     },
     "execution_count": 47,
     "metadata": {},
     "output_type": "execute_result"
    }
   ],
   "source": [
    "labeled.craft.unique()"
   ]
  },
  {
   "cell_type": "code",
   "execution_count": 48,
   "metadata": {},
   "outputs": [
    {
     "data": {
      "text/plain": [
       "array([nan])"
      ]
     },
     "execution_count": 48,
     "metadata": {},
     "output_type": "execute_result"
    }
   ],
   "source": [
    "labeled.geological.unique()"
   ]
  },
  {
   "cell_type": "code",
   "execution_count": 49,
   "metadata": {},
   "outputs": [
    {
     "data": {
      "text/plain": [
       "array([nan, 'heritage', 'church', 'building', 'tomb', 'yes', 'maritime',\n",
       "       'ruins', 'house', 'school', 'monument', 'hotel', 'military',\n",
       "       'fort', 'naval', 'landmark', 'lighthouse', 'exhibit',\n",
       "       'Original Community Church', 'Original Farm House',\n",
       "       'place_of_worship', 'pumping_station', 'apartments', 'theatre',\n",
       "       'manor', \"Preacher's House\", 'memorial', 'district', 'castle',\n",
       "       'aircraft', 'fire_station', 'train_station', 'ship',\n",
       "       'department_store', 'private_residence', 'rail road depot', 'mill',\n",
       "       'barn', 'train', 'museum', 'railway_car', 'railway_station',\n",
       "       'courthouse', 'granary', 'architectural site',\n",
       "       'Noble-Seymour Crippen House', 'locomotive', 'heritage_building',\n",
       "       'chapel', 'carriage_house', 'farmhouse', 'hospital', 'watermill',\n",
       "       'post_office', 'rail_station', 'train_ferry', 'observatory',\n",
       "       'station_site', 'lightouse', 'tower', 'Government_Building',\n",
       "       'factory', 'industrial', 'brewery', 'folly', 'farm', 'no',\n",
       "       'ocean_liner', 'storage_celler',\n",
       "       'Smithfield Congregational Church',\n",
       "       'Saint Mary Czestochowa Roman Catholic Church', 'cabin', 'inn',\n",
       "       'Historic_Railroad_Car', 'library', 'historical landmark house',\n",
       "       'pillory', 'hangar', 'jail', '1969', 'wayside_shrine',\n",
       "       'railroad_snowshed', 'ferryboat', 'depot', 'gas_station'],\n",
       "      dtype=object)"
      ]
     },
     "execution_count": 49,
     "metadata": {},
     "output_type": "execute_result"
    }
   ],
   "source": [
    "labeled.historic.unique()"
   ]
  },
  {
   "cell_type": "code",
   "execution_count": 50,
   "metadata": {},
   "outputs": [
    {
     "data": {
      "text/plain": [
       "array([nan])"
      ]
     },
     "execution_count": 50,
     "metadata": {},
     "output_type": "execute_result"
    }
   ],
   "source": [
    "labeled.land_area.unique()"
   ]
  },
  {
   "cell_type": "code",
   "execution_count": 51,
   "metadata": {},
   "outputs": [
    {
     "data": {
      "text/plain": [
       "array([nan, 'sports_centre', 'stadium', 'fitness_centre', 'sports_hall',\n",
       "       'picnic_table', 'hackerspace', 'miniature_golf', 'dance',\n",
       "       'amusement_arcade', 'trampoline_park', 'escape_game', 'bleachers',\n",
       "       'playground', 'tour_guide', 'dog_park', 'pitch', 'bowling_alley',\n",
       "       'outdoor_seating', 'bandstand', 'ice_rink', 'park',\n",
       "       'tanning_salon', 'swimming_pool', 'resort', 'batting_cage',\n",
       "       'bingo_hall', 'sports_hall;trampoline_park', 'fitness_station',\n",
       "       'common', 'yoga', 'indoor_play', 'golf_course', 'arena', 'firepit',\n",
       "       'yes', 'marina', 'fishing', 'bleacher', 'comedy', 'shooting',\n",
       "       'fitness_centre;bowling_alley', 'social_club', 'garden',\n",
       "       'adult_gaming_centre', 'picnic', 'shooting_ground', 'horse_riding',\n",
       "       'beach_resort', 'water_park', 'nature_reserve', 'bowling',\n",
       "       'ingress', 'arts_centre', 'bird_hide', 'sauna', 'gun_range',\n",
       "       'swimming_area', 'axe_throwing'], dtype=object)"
      ]
     },
     "execution_count": 51,
     "metadata": {},
     "output_type": "execute_result"
    }
   ],
   "source": [
    "labeled.leisure.unique()"
   ]
  },
  {
   "cell_type": "code",
   "execution_count": 52,
   "metadata": {},
   "outputs": [
    {
     "data": {
      "text/plain": [
       "array([nan, 'storage_tank', 'cooling', 'silo', 'works',\n",
       "       'environmental_hazard', 'pier', 'pumping_station',\n",
       "       'reservoir_covered', 'tank', 'tower', 'water_tower', 'bridge',\n",
       "       'observatory', 'wastewater_plant', 'bladder', 'water_works',\n",
       "       'foundation', 'kiln', 'windmill', 'air_vent', 'yes', 'water_well',\n",
       "       'chimney', 'building', 'surveillance', 'canopy', 'tomb',\n",
       "       'cooling_tower', 'dome', 'gasometer', 'obelisk', 'watermill',\n",
       "       'chiller', 'lighthouse', 'mineshaft', 'beacon', 'street_cabinet',\n",
       "       'fuel_pump', 'bunker_silo', 'ventilation_shaft',\n",
       "       'vertical_wind_tunnel', 'works;environmental_hazard', 'courtyard',\n",
       "       'tunnel', 'mast', 'storage_dome', 'mine', 'goods_conveyor'],\n",
       "      dtype=object)"
      ]
     },
     "execution_count": 52,
     "metadata": {},
     "output_type": "execute_result"
    }
   ],
   "source": [
    "labeled.man_made.unique()"
   ]
  },
  {
   "cell_type": "code",
   "execution_count": 53,
   "metadata": {},
   "outputs": [
    {
     "data": {
      "text/plain": [
       "array([nan, 'office', 'bunker', 'checkpoint', 'training', 'barracks',\n",
       "       'armory', 'school', 'yes', 'exchange', 'research',\n",
       "       'registration_and_enlistment_office'], dtype=object)"
      ]
     },
     "execution_count": 53,
     "metadata": {},
     "output_type": "execute_result"
    }
   ],
   "source": [
    "labeled.military.unique()"
   ]
  },
  {
   "cell_type": "code",
   "execution_count": 54,
   "metadata": {},
   "outputs": [
    {
     "data": {
      "text/plain": [
       "array([nan, 'water', 'grass', 'heath', 'wood'], dtype=object)"
      ]
     },
     "execution_count": 54,
     "metadata": {},
     "output_type": "execute_result"
    }
   ],
   "source": [
    "labeled.natural.unique()"
   ]
  },
  {
   "cell_type": "code",
   "execution_count": 55,
   "metadata": {},
   "outputs": [
    {
     "data": {
      "text/plain": [
       "array([nan, 'financial', 'educational_institution', 'lawyer', 'therapist',\n",
       "       'energy_supplier', 'government', 'company', 'insurance',\n",
       "       'estate_agent', 'association', 'property_management', 'yes',\n",
       "       'pest_control', 'tax_advisor', 'accountant', 'bail_bond_agent',\n",
       "       'religion', 'ngo', 'logistics', 'employment_agency', 'research',\n",
       "       'engineer', 'graphic_design', 'newspaper', 'architect',\n",
       "       'water_utility', 'guide', 'physician', 'financial_advisor',\n",
       "       'construction_company', 'administrative', 'school',\n",
       "       'telecommunication', 'it', 'cheque_cashing', 'coworking',\n",
       "       'surveyor', 'Faculty Offices:Fine Arts and Music (7100)',\n",
       "       'Child Care Center (4000)', 'Counseling (3100)', 'Cal Poly ASI',\n",
       "       'Nursing', 'Parking Information (6600)', 'diplomatic', 'rectory',\n",
       "       'university', 'security', 'healthcare', 'parish', 'vacant',\n",
       "       'charity', 'forestry', 'apartments', 'chiropractic', 'apartment',\n",
       "       'sport', 'self_storage', 'translator', 'labour_union', 'radio',\n",
       "       'plumber', 'landscape_architecture', 'rental', 'union',\n",
       "       'moving_company', 'cemetery', 'cooperative', 'consulting',\n",
       "       'leasing', 'administration', 'construction', 'radio_station',\n",
       "       'tax', 'medical', 'cpa',\n",
       "       'surgical_weight_loss_center/_senior_clinic', 'healthcare:dentist',\n",
       "       'studio', 'yes;estate_agent', 'landscaping', 'engineering',\n",
       "       'political_party', 'power_utility', 'quango', 'auctioneer',\n",
       "       'railway', 'church', 'dental', 'interior_design', 'realty',\n",
       "       'agricultural_extension_service', 'homebuilder', 'contractor',\n",
       "       'investment', 'accountant;financial_advisor', 'camping',\n",
       "       'Law Enforcement Software Solutions', 'advertising_agency',\n",
       "       'residential', 'comunity', 'shipping', 'chamber_of_commerce',\n",
       "       'transport', 'accountant;insurance;travel', 'public_transport',\n",
       "       'MultiUse - Commercial/Residential', 'behavioral health clinic',\n",
       "       'adoption_agency', 'medical_supplies', 'commercial', '*',\n",
       "       'marketing', 'landlord', 'physicians', 'foundation',\n",
       "       'international_organization', 'police', 'court', 'medical_offices',\n",
       "       'private_investigator', 'of', 'printing', 'financial_services',\n",
       "       'ngo;association', 'bank', 'labor_union', 'title_agent',\n",
       "       'Real_Estate', 'transportation', 'motor_club', 'headquarters',\n",
       "       'motel', 'reception', 'software', 'parole', 'bank_office',\n",
       "       'chamber', 'medical;association', 'printer_supply',\n",
       "       'financial;financial_advisor', 'notary', 'civic', 'leasing_office',\n",
       "       'mortgage_broker', 'utility', 'courier', 'industrial', 'hospital',\n",
       "       'natural_gas_utility', 'towing', 'taxi', 'research_institute',\n",
       "       'publisher', 'art_studio', 'SC_Johnson', 'alarm_system',\n",
       "       'military'], dtype=object)"
      ]
     },
     "execution_count": 55,
     "metadata": {},
     "output_type": "execute_result"
    }
   ],
   "source": [
    "labeled.office.unique()"
   ]
  },
  {
   "cell_type": "code",
   "execution_count": 56,
   "metadata": {},
   "outputs": [
    {
     "data": {
      "text/plain": [
       "array([nan, 'square', 'neighbourhood', 'farm', 'city'], dtype=object)"
      ]
     },
     "execution_count": 56,
     "metadata": {},
     "output_type": "execute_result"
    }
   ],
   "source": [
    "labeled.place.unique()"
   ]
  },
  {
   "cell_type": "code",
   "execution_count": 57,
   "metadata": {},
   "outputs": [
    {
     "data": {
      "text/plain": [
       "array([nan, 'convenience', 'supermarket', 'car_parts', 'trade',\n",
       "       'variety_store', 'storage_rental', 'alcohol', 'bakery',\n",
       "       'department_store', 'car_repair', 'car', 'rental', 'beverages',\n",
       "       'wine', 'yes', 'doityourself', 'mall', 'hairdresser',\n",
       "       'swimming_pool', 'boat', 'hardware', 'florist', 'chemist',\n",
       "       'funeral_directors', 'tractor', 'tobacco', 'clothes',\n",
       "       'frozen_food', 'second_hand;antiques', 'wholesale',\n",
       "       'interior_decoration;furniture', 'jewelry;antiques', 'second_hand',\n",
       "       'recreational_vehicle', 'tyres', 'plant_hire', 'vacant', 'gift',\n",
       "       'piercing', 'wholesale;cleaning_supplies', 'mobile_phone',\n",
       "       'tool_hire', 'craft', 'kiosk', 'country_store', 'bicycle', 'dairy',\n",
       "       'e-cigarette', 'rv', 'charity', 'greengrocer', 'garden_centre',\n",
       "       'gas', 'pyrotechnics', 'bed', 'sports', 'fabric', 'shoes',\n",
       "       'beauty', 'motorcycle', 'flooring', 'furniture', 'copyshop',\n",
       "       'pet_grooming', 'pet', 'general', 'tattoo', 'electronics', 'photo',\n",
       "       'books', 'motorcycle_repair', 'dry_cleaning', 'antiques',\n",
       "       'laundry', 'butcher', 'electrical', 'sewing', 'boutique',\n",
       "       'musical_instrument', 'outdoor', 'party', 'houseware', 'art',\n",
       "       'erotic', 'agrarian', 'pawnbroker', 'jewelry',\n",
       "       'nutrition_supplements', 'caravan', 'trophy', 'chocolate',\n",
       "       'money_lender', 'games', 'interior_decoration', 'weapons',\n",
       "       'medical_supply', 'paint', 'lighting', 'locksmith', 'moving',\n",
       "       'ticket', 'coffee', 'confectionery', 'rafting', 'hunting',\n",
       "       'audio_equipment_rental', 'sign', 'truck_repair', 'computer',\n",
       "       'optician', 'cannabis', 'telecommunication', 'massage', 'tea',\n",
       "       'doors', 'music', 'kitchen', 'travel_agency', 'fishing', 'repair',\n",
       "       'golf', 'seafood', 'hairdresser_supply', 'tiles',\n",
       "       'computer_repair', 'hifi', 'farm', 'bathroom_furnishing',\n",
       "       'fireplace', 'carpet', 'stationery', 'appliance',\n",
       "       'mall;supermarket', 'video', 'caravan_parts', 'printer_ink',\n",
       "       'cosmetics', 'ski', 'collector', 'grocery', 'electrician', 'deli',\n",
       "       'water_sports', 'toys', 'herbalist', 'preserves', 'telescopes',\n",
       "       'equipment_rental', 'catering', 'energy', 'storage',\n",
       "       'window_blind', 'hairdresser;beauty', 'auction', 'religion',\n",
       "       'lawyer', 'health_food', 'scuba_diving', 'lumber', 'spa',\n",
       "       'baby_goods', 'rug', 'monumental_mason', 'car_service', 'psychic',\n",
       "       'estate_agent', 'clothes;houseware', 'smog_center',\n",
       "       'alcohol;convenience', 'pastry', 'marine_service;marine_parts',\n",
       "       'construction', 'awards', 'pest_control', 'farm_supply',\n",
       "       'financial', 'plant_nursery', 'video_games', 'tax', 'health',\n",
       "       'mobile_home', 'tailor', 'motorcycle_parts', 'shoe_repair',\n",
       "       'automotive', 'chemist;stationery;convenience', 'smog_check',\n",
       "       'household_linen', 'cooking equipment', 'knives', 'newsagent',\n",
       "       'pottery', 'laundry_machines', 'watches', 'industrial',\n",
       "       'wheelchair', 'service_center', 'vacuum_cleaner', 'salon',\n",
       "       'outpost', 'model', 'storage_rental;rental', 'printing', 'fuel',\n",
       "       'hearing_aids', 'frame', 'stone', 'glaziery', 'bait_shop',\n",
       "       'golf_cart', 'shopping_centre', 'educational', 'food', 'household',\n",
       "       'convenience;tobacco', 'hobby', 'department_store;books',\n",
       "       'farm;weapons', 'newspaper', 'ice_cream', 'convenience;cannabis',\n",
       "       'cash', 'stereo', 'motorsports', 'retail', 'welding', 'no',\n",
       "       'disused', 'car_w', 'groundskeeping', 'furniture_repair',\n",
       "       'butcher;clothes;convenience', 'farm_equipment', 'raft_hire',\n",
       "       'general_store', 'trailer', 'weapons;hunting', 'garden',\n",
       "       'ammunition', 'army', 'convenience;deli', 'Chevron',\n",
       "       'letting_agent', 'convenience;photo', 'signs', 'truck', 'leisure',\n",
       "       'snack', 'graphic_design', 'tyres;car_repair', 'battery',\n",
       "       'home_improvement', 'museum', 'grocery;hardware', 'butcher;gift',\n",
       "       'convenience;alcohol;tobacco;e-cigarrete', 'towing',\n",
       "       'laundry;dry_cleaning', 'garage', 'floor', 'costume', 'printer',\n",
       "       'appliance;bed;electronics;furniture',\n",
       "       'fireplace;furniture;kitchen;lighting;outdoor',\n",
       "       'furniture;appliance;bed', 'laundry;dry_cleaners',\n",
       "       'general;alcohol', 'appliance;bed;furniture', 'agrarian;hardware',\n",
       "       'interior_decoration;antiques', 'laundromat', 'glass',\n",
       "       'power_equipment', 'machine', 'bookmaker', 'fashion_accessories',\n",
       "       'leather', 'camera', 'building_materials', 'nail salon',\n",
       "       'gravestone', 'curiosity', 'headshop', 'taxidermist',\n",
       "       'fitness_equipment', 'hydraulic_repair',\n",
       "       'truck_repair|fleet_service', 'lawn', 'community', 'hydraulics',\n",
       "       'import', 'automotive_alarm', 'salvage', 'propane',\n",
       "       'farm_implement', 'implement', 'swimming_pool;fireplace',\n",
       "       'plumbing', 'lawn_mower',\n",
       "       'variety_store;furniture;bathroom_furnishing', 'convience',\n",
       "       'consignment', 'sports_collectibles', 'gun', 'lawn_mower_repair',\n",
       "       'accessories', 'gasses', 'rock', 'spices', 'water_filter', 'water',\n",
       "       'fitness', 'popcorn', 'appliance_parts', 'hvac', 'shed', 'fence',\n",
       "       'bbq', 'insurance', 'custom_signs;silkscreen', 'welding_supply',\n",
       "       'orthopedics', 'curtain', 'bag', 'batteries', 'upholstery', 'wood',\n",
       "       'cheese', 'hifi;rental', 'boutique; gift', 'emergency_equipment',\n",
       "       'tow', 'wheelchair van', 'hookah', 'wigs', 'flag',\n",
       "       'truck;truck_repair', 'optometrist', 'e-bike', 'duty_free',\n",
       "       'print', 'holiday', 'auction_house', 'candles', 'salt', 'safety',\n",
       "       'junk_yard', 'Landscape architect', 'peanuts', 'bridal',\n",
       "       'marketplace', 'shopping_center', 'convenience;clothes',\n",
       "       'convenience;florist', 'surplus', 'monument_maker', 'farm_machine',\n",
       "       'farmers_market', 'hardscape', 'kitchen_supplies', 'cafe, bakery',\n",
       "       'car_repair;towing', 'equestrian', 'pasta', 'beer_distributor',\n",
       "       'ice', 'radiotechnics', 'camp', 'soap', 'car_parts;houseware',\n",
       "       'military_surplus', 'supermarket;greengrocer;butcher',\n",
       "       'convenience;alcohol;tobacco',\n",
       "       'convenience;clothes;shoes;supermarket;health_food',\n",
       "       'supermarket;butcher', 'greengrocer;supermarket;butcher',\n",
       "       'pyrotechnics;convenience', 'maps', 'adult',\n",
       "       'greengrocer;ice_cream', 'convenience;clothes;shoes;supermarket',\n",
       "       'alcohol;tobacco', 'convenience;fishing;hunting',\n",
       "       'alcohol;fishing', 'e-cigarette;cannabis;herbalist', 'nuts',\n",
       "       'eyeglasses', 'clothing', 'convenience;fishing',\n",
       "       'convenience;bakery', 'concrete_mix', 'resale', 'art_supply',\n",
       "       'sports;bicycle', 'supplements', 'safety_equipment', 'tortilla',\n",
       "       'bottled_gas', 'taxidermy', 'janitorial', 'fasteners',\n",
       "       'boat_repair;boat', 'safe', 'electronic_recycling', 'appliances',\n",
       "       'leatherworking', 'garden_machinery', 'screenprinting',\n",
       "       'building_supply', 'garden_centre;agrarian', 'Internet_Service',\n",
       "       'motorcycle;snowmobile;ATV;side_by_side;parts;repair',\n",
       "       'games;video_games', 'atv;jetski;motorcycle;snowmobile',\n",
       "       'fireworks', 'school_supply', 'appliance_repair', 'metal',\n",
       "       'free_flying', 'flea_market', 'cheese;gift', 'comics', 'atv'],\n",
       "      dtype=object)"
      ]
     },
     "execution_count": 57,
     "metadata": {},
     "output_type": "execute_result"
    }
   ],
   "source": [
    "labeled.shop.unique()"
   ]
  },
  {
   "cell_type": "code",
   "execution_count": 58,
   "metadata": {},
   "outputs": [
    {
     "data": {
      "text/plain": [
       "array([nan, 'basketball', 'multi', 'equestrian', 'climbing_adventure',\n",
       "       'athletics', 'trampoline', 'roller_skating', 'gymnastics', '10pin',\n",
       "       'archery', 'volleyball;multi', 'yoga', 'billiards', 'pole_dance',\n",
       "       'swimming', 'bouncing', 'american_football', 'fitness', 'climbing',\n",
       "       'skiing', 'baseball;softball', 'soccer', 'shooting',\n",
       "       'gymnastics;dance', 'tennis', 'golf', 'ice_skating;ice_hockey',\n",
       "       'ice_hockey', 'racquet', 'kayak', 'karate', 'baseball', 'rowing',\n",
       "       'weightlifting;crossfit', 'basketball;fitness', 'weightlifting',\n",
       "       'bowling', 'karting', 'volleyball', 'basketball;volleyball',\n",
       "       'fencing', 'sailing', 'ice_skating;ice_hockey;multi',\n",
       "       'wrestling;basketball', 'bowls', 'billiards;fitness', 'jiu-jitsu',\n",
       "       'skating', 'climbing;trampoline', 'swimming;racquetball',\n",
       "       'ice_skating', 'basketball;ice_hockey', 'boxing',\n",
       "       'basketball;strength_training;multi', 'boules',\n",
       "       'soccer;basketball;weightlifting', 'basketball;multi;athletics',\n",
       "       'wrestling', 'table_soccer;billiards;shuffleboard;darts',\n",
       "       'basketball;racquet', 'multi;basketball;ice_hockey',\n",
       "       'table_tennis', 'boxing;muay_thai',\n",
       "       'basketball;volleyball;weightlifting', 'curling', 'hapkido',\n",
       "       'karate;zumba;tai_chi;yoga',\n",
       "       'basketball;swimming;exercise;fitness', 'laser_tag', 'crossfit',\n",
       "       'esports', 'pilates', 'hockey', 'skiing;cycling;hiking',\n",
       "       'basketball;swimming;running;fitness;volleyball',\n",
       "       'multi;tennis;swimming;basketball;athletics;fitness;soccer;running;table_tennis',\n",
       "       'basketball;pickleball;yoga;pilates;swimming;running;zumba;silversneakers;gymnastics;weights',\n",
       "       'basketball;hockey', 'Bowling', 'cycling', 'athletics;swimming',\n",
       "       'skating;hockey', 'basketball;swimming', 'martial_arts;kickboxing',\n",
       "       'skiing;snowboard', 'yes', 'canoe', 'basketball;multi',\n",
       "       'multi;basketball;fitness;swimming;athletics;american_football;baseball;running',\n",
       "       'jiu-jitsu;krav_maga;kickboxing',\n",
       "       'basketball;volleyball;tennis;batting_cage;running;yoga;martial_arts;safety_training',\n",
       "       'squash', 'darts', 'volleyball;soccer;track;lacrosse',\n",
       "       'basketball;weightlifting;fitness;running;volleyball;yoga;racquet;cycling;badminton;tennis',\n",
       "       'basketball;swimming;volleyball;gymnastics',\n",
       "       'basketball;weightlifting;squash;racquetball;cycling;volleyball',\n",
       "       'lacrosse', 'ice_skating;ice_hockey;curling',\n",
       "       'soccer;volleyball;basketball;climbing;badminton;racquet;tennis;swimming',\n",
       "       'basketball;volleyball;fitness', 'shooting_range', 'scuba_diving',\n",
       "       'skateboard', 'soccer;american_football', 'shooting;archery',\n",
       "       'swimming;basketball;fitness', 'batting_cage',\n",
       "       'basketball;racquet;soccer;volleyball', 'running',\n",
       "       'basketball;swimming;volleyball;multi', 'swimming;hockey',\n",
       "       'volleyball;wrestling;gymnastics', 'model_aerodrome',\n",
       "       'baseball;volleyball;softball',\n",
       "       'basketball;fitness;volleyball;swimming;climbing',\n",
       "       'running;multi;fitness', '9pin', 'tennis;fitness',\n",
       "       'basketball;fitness;pickleball', 'basketball;climbing;swimming',\n",
       "       'fitness;tennis;racquet', 'ice_hockey;ice_skating',\n",
       "       'basketball;boxing',\n",
       "       'basketball;athletics;swimming;volleyball;gymnastics;weightlifting;baseball;yoga',\n",
       "       'baseball;softball;american_football;lacrosse;volleyball;basketball',\n",
       "       'roller_skating;bowling', 'rollerskating', 'tennis;racquet',\n",
       "       'multi;ice_hockey;ice_skating', 'ice_hockey;ice_skating;tennis',\n",
       "       'basketball;running;multi', 'skiing;snowboarding',\n",
       "       'ice_hockey;ice_skating;golf', 'volleyball;wrestling;basketball',\n",
       "       'basketball;swimming;fitness;athletics', 'billiards;table_soccer',\n",
       "       'gymnastics;cheer;dance', 'basketball;fitness;swimming',\n",
       "       'Jiu_Jitsu', 'basketball;volleyball;weightlifting;indoor_track',\n",
       "       '10pin;swimming;billiards;climbing;basketball;running;table_tennis;fitness',\n",
       "       'cheerleading', 'bullfighting',\n",
       "       'ice_skating;ice_hockey;figure_skating',\n",
       "       'kickboxing;fitness;taekwondo', 'basketball; swimming',\n",
       "       'basketball;swimming;volleyball;climbing', '10pin;duckpin',\n",
       "       'hockey;basketball', 'ice_hockey;basketball;volleyball',\n",
       "       'axe_throwing', 'taekwondo', 'soccer;flag_football',\n",
       "       'soccer;baseball;kickball;flag_football',\n",
       "       'american_football;running;athletics', 'ice_skating;ice_stock',\n",
       "       'karate;martial_arts', 'basketball;soccer;running;beachvolleyball',\n",
       "       'motor', 'basketball;volleyball;gymnastics;wrestling',\n",
       "       'skating;ice_hockey', 'gym', 'multi;ice_hockey;curling',\n",
       "       'basketball;swimming;multi', 'basketball;volleyball;wrestling',\n",
       "       'ice_hockey; field_hockey', 'multi;swimming', 'fitness;multi',\n",
       "       'softball', 'bmx', 'basketball;weightlifting;fitness',\n",
       "       'trampoline;laser_tag', 'american_football;soccer',\n",
       "       'swimming;tennis', 'ice_hockey;soccer', 'bike',\n",
       "       'Weight_Lifting;Yoga;Spin_Class', 'football', 'private',\n",
       "       'basketball;running',\n",
       "       'basketball;volleyball;pickleball;lacrosse;soccer;baseball;softball',\n",
       "       'basketball;swimming;racquet', 'swimming;racquet',\n",
       "       'cheerleading;dance;cheer', 'soccer;basketball;volleyball',\n",
       "       'skating;ice_skating', 'squash;tennis', 'swimming;gym;racquet',\n",
       "       'basketball;volleyball;squash', 'basketball;volleyball;futsal',\n",
       "       'indoor_skydiving', 'swimming;running', 'athletics;running',\n",
       "       'cheerleading;tumbling', 'hockey;ice_hockey;ice_skating',\n",
       "       'ice_skating;curling;ice_hockey',\n",
       "       'soccer;american_football;running', 'basketball;wrestling',\n",
       "       'weight_lifting', 'shooting;fishing;hunting', 'paintball',\n",
       "       'volleyball;basketball', 'fitness;exercise',\n",
       "       'karate;martial_arts;karate_lessons',\n",
       "       'shooting;guns;firearms;range', 'gaga', 'martial_arts',\n",
       "       'martial_arts;karate;self_defence;kids_sport;kids_martial_arts;family_martial_arts;karate_school;karate_classes;kickboxing_classes;personal_martial_arts_training;group_martial_arts_classes;judo;kickboxing',\n",
       "       'fishing',\n",
       "       'basketball;swimming;fitness;climbing;running;volleyball;table_tennis;athletics',\n",
       "       'athletics;soccer;american_football', 'airsoft',\n",
       "       'soccer,_track_and_field', 'wrestling;weightlifting',\n",
       "       'basketball;athletics;volleyball',\n",
       "       'soccer;athletics;american_football',\n",
       "       'basketball;fitness;raquet;aerobics;pilates',\n",
       "       'basketball;swimming;running;volleyball;pickleball', 'Dallas',\n",
       "       'archery;basketball;billiards;racquet',\n",
       "       'american_football;archery;athletics;baseball;basketball',\n",
       "       'soccer;basketball;volleyball;american_football;running;athletics',\n",
       "       'Tae_Kwon_Do', 'american_football;soccer;rodeo', 'exercise',\n",
       "       'billiards;table_tennis;games', 'basketball;pickleball',\n",
       "       'gymnastics;cheerleading', 'basketball;gymnastics',\n",
       "       'basketball;swimming;volleyball', 'beachvolleyball',\n",
       "       'swimming;workout', 'basketball;weightligting;running',\n",
       "       'ice_skating;soccer;ice_hockey', 'basketball; soccer; ice_hockey',\n",
       "       'athletics;multi;swimming', 'skiing;cycling;running',\n",
       "       'basketball;multi;swimming;athletics;volleyball',\n",
       "       'ice_hockey;figure_skating;basketball;volleyball;ice_skating',\n",
       "       'basketball;running;swimming;ice_skating;climbing'], dtype=object)"
      ]
     },
     "execution_count": 58,
     "metadata": {},
     "output_type": "execute_result"
    }
   ],
   "source": [
    "labeled.sport.unique()"
   ]
  },
  {
   "cell_type": "code",
   "execution_count": 59,
   "metadata": {},
   "outputs": [
    {
     "data": {
      "text/plain": [
       "array([nan, 'hotel', 'motel', 'museum', 'information', 'attraction',\n",
       "       'picnic_site', 'chalet', 'hostel', 'alpine_hut', 'camp_site',\n",
       "       'apartment', 'guest_house', 'gallery', 'aquarium', 'artwork',\n",
       "       'arts_centre', 'viewpoint', 'hotel;motel', 'yes', 'motel;hotel',\n",
       "       'railway_station', 'wilderness_hut', 'theme_park', 'camp_pitch',\n",
       "       'yes;attraction', 'wine_cellar', 'winery', 'wine_tasting',\n",
       "       'conservatory', 'cabin', 'amusement_park', 'nature_centre',\n",
       "       'place_of_worship', 'zoo', 'art_gallery', 'cultural',\n",
       "       'caravan_site', 'construction', 'landmark', 'convention_center',\n",
       "       'haunted'], dtype=object)"
      ]
     },
     "execution_count": 59,
     "metadata": {},
     "output_type": "execute_result"
    }
   ],
   "source": [
    "labeled.tourism.unique()"
   ]
  },
  {
   "cell_type": "code",
   "execution_count": 30,
   "metadata": {},
   "outputs": [
    {
     "data": {
      "text/plain": [
       "Index(['Building_Area', 'aeroway', 'amenity', 'building', 'craft',\n",
       "       'geological', 'historic', 'land_area', 'leisure', 'man_made',\n",
       "       'military', 'natural', 'office', 'place', 'shop', 'sport', 'tourism',\n",
       "       'landuse', 'Height', 'Square_Footage'],\n",
       "      dtype='object')"
      ]
     },
     "execution_count": 30,
     "metadata": {},
     "output_type": "execute_result"
    }
   ],
   "source": [
    "labeled.columns"
   ]
  },
  {
   "cell_type": "markdown",
   "metadata": {},
   "source": [
    "Drop unnecessary Columns"
   ]
  },
  {
   "cell_type": "code",
   "execution_count": 7,
   "metadata": {},
   "outputs": [],
   "source": [
    "labeled=labeled.drop(columns=['aeroway', 'amenity', 'craft', 'geological', 'historic',\n",
    "       'land_area', 'leisure', 'man_made', 'military', 'natural', 'office',\n",
    "       'place', 'shop', 'sport', 'tourism'])"
   ]
  },
  {
   "cell_type": "code",
   "execution_count": null,
   "metadata": {},
   "outputs": [],
   "source": []
  },
  {
   "cell_type": "code",
   "execution_count": 6,
   "metadata": {},
   "outputs": [
    {
     "data": {
      "text/plain": [
       "Index(['Building_Area', 'building', 'landuse', 'Height', 'Square_Footage'], dtype='object')"
      ]
     },
     "execution_count": 6,
     "metadata": {},
     "output_type": "execute_result"
    }
   ],
   "source": [
    "labeled.columns"
   ]
  },
  {
   "cell_type": "code",
   "execution_count": 5,
   "metadata": {},
   "outputs": [],
   "source": [
    "#cat_cols=['aeroway', 'amenity', 'craft', 'geological', 'historic','land_area', 'leisure', 'man_made', 'military', 'natural', 'office','place', 'shop', 'sport', 'tourism', 'landuse']"
   ]
  },
  {
   "cell_type": "code",
   "execution_count": 56,
   "metadata": {},
   "outputs": [
    {
     "data": {
      "text/plain": [
       "Index(['Building_Area', 'Height', 'Square_Footage', 'landuse_cat'], dtype='object')"
      ]
     },
     "execution_count": 56,
     "metadata": {},
     "output_type": "execute_result"
    }
   ],
   "source": [
    "labeled.columns"
   ]
  },
  {
   "cell_type": "code",
   "execution_count": 7,
   "metadata": {},
   "outputs": [],
   "source": [
    "#for col in ['aeroway', 'amenity', 'craft', 'geological', 'historic',\n",
    "#       'land_area', 'leisure', 'man_made', 'military', 'natural', 'office',\n",
    "#       'place', 'shop', 'sport', 'tourism', 'landuse']:\n",
    "#            labeled[col] = labeled[col].astype('category')\n",
    "#            labeled[col] = labeled[col].astype('category')"
   ]
  },
  {
   "cell_type": "markdown",
   "metadata": {},
   "source": [
    "Categorize labels into 10 classes"
   ]
  },
  {
   "cell_type": "code",
   "execution_count": 8,
   "metadata": {},
   "outputs": [],
   "source": [
    "classes={}"
   ]
  },
  {
   "cell_type": "code",
   "execution_count": 9,
   "metadata": {},
   "outputs": [],
   "source": [
    "build_Acc=['residential_duplex','chalet','guest_house','duplex','residence','condo','accomodation','Residential_Condominium','condominiums','mansion','residences','mobile_home','townhome','fraternity house','motel','apartments', 'barracks', 'bungalow', 'cabin','Condominium','condominium','condomnium' ,'detached', 'annexe' ,'dormitory', 'farm','ger','hotel','house','houses','houseboat','residential','semidetached_house','static_caravan','stilt_house','terrace','tree_house','trullo']\n",
    "build_Com=['store','cinema','factory','business','shopping','mall','COMMERCIAL','theatre','saloon','amphitheatre','pharmacy','grocery_store','commercial','casino','market','laundromat','bar','restaurant','commercial','industrial','kiosk','office','retail','supermarket','warehouse','bank','shop']\n",
    "build_Rel=['convent','religious','cathedral','chapel','church','kingdom_hall','monastery','mosque','presbytery','shrine','synagogue','temple']\n",
    "build_CA=['townhall','municipal','parish_hall','social_facility','community_centre','town_hall','courthouse','music_school','administration','childcare','government_office','prison','museum','Museum','police_station','jail','library','healthcare','amenity','clinic','post_office','bakehouse','bridge','civic','college','fire_station','government','gatehouse','hospital','kindergarten','museum','public','school','toilets','train_station','transportation','university']\n",
    "build_Agr=['ranch','farmhouse','barm','barns','barn','conservatory','cowshed','farm_auxiliary','greenhouse','slurry_tank','stable','sty','livestock']\n",
    "build_Sports=['skating_rink','gazebo','clubhouse','recreational','gym','sports','arena','athletic','sports','pool','grandstand','pavilion','riding_hall','sports_hall','sports_centre','stadium','gymnasium','dugout']\n",
    "build_Stor=['storage_tanks','water_tank','hanger','storage_rental','self_storage','boat storage house','loafing_shed','storage','allotment_house','boathouse','hangar','hut','shed']\n",
    "build_car=['carports','carport','garage','garages','parking','parking_shelter','parking_garage']\n",
    "build_pow=['power_substation','data_center','datacenter','power','digester','service','tech_cab','transformer_tower','water_tower','storage_tank','silo']\n",
    "build_other=['lifeguard_tower','fuel','pumping_stateion','ruin','shelter','abandoned','demolished','hogan','beach_hut','bunker','castle','construction','container','guardhouse','military','outbuilding','pagoda','quonset_hut','roof','ruins','tent','tower','windmill']"
   ]
  },
  {
   "cell_type": "code",
   "execution_count": 10,
   "metadata": {},
   "outputs": [],
   "source": [
    "for i in build_Acc:\n",
    "    classes[i]=0\n",
    "for i in build_Com:\n",
    "    classes[i]=1\n",
    "for i in build_Rel:\n",
    "    classes[i]=2\n",
    "for i in build_CA:\n",
    "    classes[i]=3\n",
    "for i in build_Agr:\n",
    "    classes[i]=4\n",
    "for i in build_Sports:\n",
    "    classes[i]=5\n",
    "for i in build_Stor:\n",
    "    classes[i]=6\n",
    "for i in build_car:\n",
    "    classes[i]=7\n",
    "for i in build_pow:\n",
    "    classes[i]=8\n",
    "for i in build_other:\n",
    "    classes[i]=9\n",
    "for i in labeled.building.unique():\n",
    "    if classes.get(i)==None:\n",
    "        classes[i]=10"
   ]
  },
  {
   "cell_type": "markdown",
   "metadata": {},
   "source": [
    "Filter out labels outside defined categories"
   ]
  },
  {
   "cell_type": "code",
   "execution_count": 11,
   "metadata": {},
   "outputs": [],
   "source": [
    "good=[]"
   ]
  },
  {
   "cell_type": "code",
   "execution_count": 12,
   "metadata": {},
   "outputs": [],
   "source": [
    "for i in classes.keys():\n",
    "    if classes.get(i)!=10:\n",
    "        good.append(i)"
   ]
  },
  {
   "cell_type": "code",
   "execution_count": 13,
   "metadata": {},
   "outputs": [],
   "source": [
    "labeled=labeled[labeled[\"building\"].isin(good)]"
   ]
  },
  {
   "cell_type": "markdown",
   "metadata": {},
   "source": [
    "Categorize Landuse into 10 categories"
   ]
  },
  {
   "cell_type": "code",
   "execution_count": 12,
   "metadata": {},
   "outputs": [
    {
     "data": {
      "text/plain": [
       "array([nan, 'military', 'industrial', 'residential', 'cemetery',\n",
       "       'commercial', 'farmland', 'meadow', 'grass', 'clearing', 'forest',\n",
       "       'farmyard', 'retail', 'garages', 'quarry', 'religious',\n",
       "       'recreation_ground', 'brownfield', 'flowerbed', 'construction',\n",
       "       'animal_keeping', 'greenhouse_horticulture', 'university',\n",
       "       'plant_nursery', 'education', 'factory', 'railway', 'municipial',\n",
       "       'village_green', 'landfill', 'municipal', 'leisure',\n",
       "       'winter_sports', 'reservoir', 'orchard', 'fairground', 'storage',\n",
       "       'construction;residential', 'utility', 'logistics', 'abandoned',\n",
       "       'greenfield', 'government', 'public', 'aquaculture', 'vineyard',\n",
       "       'farm', 'civic_admin', 'civic', 'allotments', 'institutional',\n",
       "       'wholesale', 'transport', 'harbour', 'paved', 'commercial;retail',\n",
       "       'water_storage', 'oil_field', 'shrubs', 'public_building',\n",
       "       'special_use', 'public_facility', 'quad', 'commercial;residential',\n",
       "       'yes', 'Maintenance Area', 'nature reserve', 'disused:farmland',\n",
       "       'pasture', 'churchyard', 'accommodation', 'basin', 'park',\n",
       "       'administrative', 'historic;residential', 'demolished:industrial',\n",
       "       'governmental', 'conservation', 'depot', 'district', 'decoration',\n",
       "       'property', 'prison', 'public_works', 'waterworks',\n",
       "       'vehicle_repair', 'residential;retail', 'terminal',\n",
       "       'public_safety', 'courtyard', 'reservoir_watershed', 'official',\n",
       "       'emergency', 'healthcare', 'parking', 'wharf', 'civil',\n",
       "       'animal_enclosure', 'school', 'justice', 'recreation',\n",
       "       'warehousing', 'observatory', 'civic_safety', 'desert', 'research',\n",
       "       'transportation', 'duplex', 'apiary', 'land', 'transload',\n",
       "       'rest area', 'residential;commercial', 'Warehouse',\n",
       "       'road_maintenance', 'administration', 'floodway', 'radio',\n",
       "       'mix-use', 'agriculture', 'garagaes', 'hydro_power', 'patio',\n",
       "       'airport', 'highway', 'greenery', 're\\\\', 'shipyard', 'windfarm',\n",
       "       'unused', 'historic', 'vacant', 'festival_grounds'], dtype=object)"
      ]
     },
     "execution_count": 12,
     "metadata": {},
     "output_type": "execute_result"
    }
   ],
   "source": [
    "labeled.landuse.unique()"
   ]
  },
  {
   "cell_type": "code",
   "execution_count": 14,
   "metadata": {},
   "outputs": [],
   "source": [
    "landuse_Acc=[ 'residential', 'accommodation', 'duplex','commercial;residential', 'residential;commercial', 'residential;retail',]\n",
    "landuse_Com=[ 'industrial', 'commercial', 'retail', 'quarry', 'factory', 'landfill',\n",
    "       'wholesale', 'oil_field', 'demolished:industrial',\n",
    "        'warehousing', 'Warehouse','radio','airport','brownfield']\n",
    "landuse_Rel=[ 'cemetery', 'religious','churchyard']\n",
    "landuse_CA=[ 'university','education', 'municipial',\n",
    "        'municipal', 'government', 'public', 'civic_admin', 'civic', 'institutional',\n",
    "        'public_building', 'public_facility', 'quad', 'administrative', \n",
    "       'governmental', 'district',  'prison', 'public_works','public_safety', 'official',\n",
    "       'emergency', 'healthcare', 'civil', 'school', 'justice', 'observatory', 'civic_safety', 'research',\n",
    "       'transportation', 'railway', 'road_maintenance', 'administration', 'highway','village_green', 'terminal']\n",
    "landuse_Agr=['farmland', 'meadow', 'grass', 'clearing', 'forest',\n",
    "       'farmyard', 'flowerbed', 'animal_keeping', 'greenhouse_horticulture',\n",
    "       'plant_nursery', 'orchard', 'greenfield', 'aquaculture', 'vineyard',\n",
    "       'farm', 'shrubs', 'nature reserve', 'fairground','disused:farmland',\n",
    "       'pasture', 'basin', 'allotments',\n",
    "        'conservation', 'animal_enclosure', 'desert', 'apiary', 'land','agriculture', 'greenery', 'festival_grounds']\n",
    "landuse_Sports=['recreation_ground', 'leisure','winter_sports', 'recreation','park']\n",
    "landuse_Stor=[ 'reservoir', 'storage','harbour','transload','water_storage','depot','wharf','shipyard','reservoir_watershed', ]\n",
    "landuse_Car=[ 'garages', 'vehicle_repair','parking']\n",
    "landuse_Pow=['utility', 'logistics','Maintenance Area', 'waterworks','hydro_power', 'windfarm']\n",
    "landuse_Other=['military', 'construction','construction;residential', 'abandoned','historic;residential', 'demolished:industrial','rest area', 'patio','historic', 'vacant']"
   ]
  },
  {
   "cell_type": "code",
   "execution_count": 15,
   "metadata": {},
   "outputs": [],
   "source": [
    "#Amen_Substance=['bar','biergarten','cafe','fast_food','food_court','ice_cream','pub','restaurant']\n",
    "#Amen_Education=['college','dancing_school','driving_school','first_aid_school','kindergarten','language_school','library','surf_school','toy_library','research_institute','training','music_school','school','traffic_park','university']\n",
    "#Amen_Trans=['bicycle_parking','bicycle_repair_station','bicycle_rental','bicycle_wash','boat_rental','boat_sharing','bus_station','car_rental','car_sharing','car_wash','compressed_air','vehicle_inspection','charging_station','driver_training','ferry_terminal','fuel','grit_bin','motorcycle_parking','parking','parking_entrance','parking_space','taxi','weighbridge']\n",
    "#Amen_Fin=['atm','payment_terminal','bank','bureau_de_change','money_transfer','payment_centre']\n",
    "#Amen_HC=['baby_hatch','clinic','dentist','doctors','hospital','nursing_home','pharmacy','social_facility','veterinary']\n",
    "#Amen_EAC=['arts_centre','brothel','casino','cinema','community_centre','conference_centre','events_venue','exhibition_centre','fountain','gambling','love_hotel','music_venue','nightclub','planetarium','public_bookcase','social_centre','stage','stripclub','studio','swingerclub','theatre']\n",
    "#Amen_PS =['courthouse','fire_station','police','post_box','post_depot','post_office','prison','ranger_station','townhall']\n",
    "#Amen_Fac=['bbq','bench','dog_toilet','dressing_room','drinking_water','give_box','mailroom','parcel_locker','shelter','shower','telephone','toilets','water_point','watering_place']\n",
    "#Amen_WM=['sanitary_dump_station','recycling','waste_basket','waste_disposal','waste_transfer_station']\n",
    "#Amen_Other=['animal_boarding','animal_breeding','animal_shelter','animal_training','baking_oven','clock','crematorium','dive_centre','funeral_hall','grave_yard','hunting_stand','internet_cafe','kitchen','kneipp_water_cure','lounger','marketplace','monastery','mortuary','photo_booth','place_of_mourning','place_of_worship','public_bath','refugee_site','vending_machine']\n",
    "#split land_dev\n",
    "#land_Dev=['commercial','construction','education','fairground','industrial','residential','retail','institutional']\n",
    "#land_Rural=['aquaculture','allotments','farmland','farmyard','paddy','animal_keeping','flowerbed','forest','greenhouse_horticulture','meadow','orchard','plant_nursery','vineyard']\n",
    "#split land_other\n",
    "#land_other=['brownfield','cemetery','depot','garages','grass','greenfield','landfill','military','port','quarry','railway','recreation_ground','religious','village_green','winter_sports']\n",
    "\n",
    "#natural_veg=['fell','grassland','health','moor','scrub','shrubbery','tree','tree_row','tree_stump','tundra','wood']\n",
    "#natural_water=['bay','beach','blowhole','cape','coastline','crevasse','geyser','glacier','hot_spring','isthmus','mud','peninsula','reef','shingle','shoal','spring','strait','water','wetland']\n",
    "#natural_geo=['arch','arete','bare_rock','blockfield','cave_entrance','cliff','dune','earth_bank','fumarole','gully','hill','peak','ridge','rock','saddle','sand','scree','sinkhole','stone','valley','volcano']\n",
    "\n",
    "#place_urban=['city','borough','suburb','quarter','neighbourhood','city_block','plot']\n",
    "#place_rural=['town','village','hamlet','isolated_dwelling','farm','allotments']\n",
    "\n",
    "#shop_food=['alcohol','bakery','beverages','brewing_supplies','butcher','cheese','chocolate','coffee','confectionery','convenience','dairy','deli','farm','food','frozen_food','greengrocer','health_food','ice_cream','nuts','pasta','pastry','seafood','spices','tea','tortilla','water','wine']\n",
    "#shop_general=['department_store','general','kiosk','mall','supermarket','wholesale']\n",
    "#shop_clothing=['baby_goods','bag','boutique','clothes','fabric','fashion_accessories','jewelry','leather','sewing','shoes','shoe_repair','tailor','watches','wool']\n",
    "#shop_discount=['charity','second_hand','variety_store']\n",
    "#shop_health=['beauty','chemist','cosmetics','erotic','hairdresser','hairdresser_supply','hearing_aids','herbalist','massage','medical_supply','nutrition_supplements','optician','perfumery','tattoo']\n",
    "#shop_diy=['agrarian','appliance','bathroom_furnishing','country_store','doityourself','electrical','energy','fireplace','florist','garden_centre','garden_furniture','gas','glaziery','groundskeeping','hardware','houseware','locksmith','paint','pottery','security','tool_hire','trade']\n",
    "#shop_furniture=['antiques','bed','candles','carpet','curtain','doors','flooring','furniture','household_linen','interior_decoration','kitchen','lighting','tiles','window_blind']\n",
    "#shop_electronics=['computer','electronics','hifi','mobile_phone','printer_ink','radiotechnics','telecommunication','vacuum_cleaner']\n",
    "#shop_outdoors=['atv','bicycle','boat','car','car_parts','car_repair','caravan','fishing','fuel','golf','hunting','military_surplus','motorcycle','motorcycle_repair','outdoor','scuba_diving','ski','snowmobile','sports','surf','swimming_pool','trailer','truck','tyres']\n",
    "#shop_hobby=['art','camera','collector','craft','frame','games','model','music','musical_instrument','photo','trophy','video','video_games']\n",
    "#shop_gifts=['anime','books','gift','lottery','newsagent','stationery','ticket']\n",
    "#shop_other=['bookmaker','cannabis','copyshop','dry_cleaning','e-cigarette','funeral_directors','laundry','money_lender','outpost','party','pawnbroker','pest_control','pet','pet_grooming','pyrotechnics','religion','rental','storage_rental','tobacco','toys','travel_agency','vacant','weapons']\n"
   ]
  },
  {
   "cell_type": "markdown",
   "metadata": {},
   "source": [
    "Get target attribute"
   ]
  },
  {
   "cell_type": "code",
   "execution_count": 16,
   "metadata": {},
   "outputs": [],
   "source": [
    "target=labeled.building"
   ]
  },
  {
   "cell_type": "code",
   "execution_count": 17,
   "metadata": {},
   "outputs": [
    {
     "data": {
      "text/plain": [
       "0           9\n",
       "1           0\n",
       "2           0\n",
       "3           0\n",
       "4           0\n",
       "           ..\n",
       "14976558    0\n",
       "14976559    0\n",
       "14976560    0\n",
       "14976561    0\n",
       "14976562    7\n",
       "Name: building, Length: 14968881, dtype: int64"
      ]
     },
     "execution_count": 17,
     "metadata": {},
     "output_type": "execute_result"
    }
   ],
   "source": [
    "target"
   ]
  },
  {
   "cell_type": "code",
   "execution_count": 17,
   "metadata": {},
   "outputs": [],
   "source": [
    "target = target.map(classes)"
   ]
  },
  {
   "cell_type": "code",
   "execution_count": 18,
   "metadata": {},
   "outputs": [],
   "source": [
    "def add_land_cat(x):\n",
    "    if x in landuse_Acc:\n",
    "        return 0\n",
    "    elif x in landuse_Com:\n",
    "        return 1\n",
    "    elif x in landuse_Rel:\n",
    "        return 2\n",
    "    elif x in landuse_CA:\n",
    "        return 3\n",
    "    elif x in landuse_Agr:\n",
    "        return 4\n",
    "    elif x in landuse_Sports:\n",
    "        return 5\n",
    "    elif x in landuse_Stor:\n",
    "        return 6\n",
    "    elif x in landuse_Car:\n",
    "        return 7\n",
    "    elif x in landuse_Pow:\n",
    "        return 8\n",
    "    elif x in landuse_Other:\n",
    "        return 9\n",
    "    else:\n",
    "        return None"
   ]
  },
  {
   "cell_type": "code",
   "execution_count": 18,
   "metadata": {},
   "outputs": [
    {
     "data": {
      "text/plain": [
       "Index(['Building_Area', 'building', 'landuse', 'Height', 'Square_Footage'], dtype='object')"
      ]
     },
     "execution_count": 18,
     "metadata": {},
     "output_type": "execute_result"
    }
   ],
   "source": [
    "labeled.columns"
   ]
  },
  {
   "cell_type": "markdown",
   "metadata": {},
   "source": [
    "Apply Landuse Categoration and drop unnecessary columns"
   ]
  },
  {
   "cell_type": "code",
   "execution_count": 19,
   "metadata": {},
   "outputs": [],
   "source": [
    "labeled[\"landuse_cat\"]=labeled[\"landuse\"].apply(add_land_cat)"
   ]
  },
  {
   "cell_type": "code",
   "execution_count": 20,
   "metadata": {},
   "outputs": [],
   "source": [
    "labeled=labeled.drop(columns=['building', 'landuse'])"
   ]
  },
  {
   "cell_type": "code",
   "execution_count": 22,
   "metadata": {},
   "outputs": [
    {
     "data": {
      "text/plain": [
       "0           9\n",
       "1           0\n",
       "2           0\n",
       "3           0\n",
       "4           0\n",
       "           ..\n",
       "14976558    0\n",
       "14976559    0\n",
       "14976560    0\n",
       "14976561    0\n",
       "14976562    7\n",
       "Name: building, Length: 14968881, dtype: int64"
      ]
     },
     "execution_count": 22,
     "metadata": {},
     "output_type": "execute_result"
    }
   ],
   "source": [
    "target"
   ]
  },
  {
   "cell_type": "markdown",
   "metadata": {},
   "source": [
    "Create train and test sets"
   ]
  },
  {
   "cell_type": "code",
   "execution_count": 21,
   "metadata": {},
   "outputs": [],
   "source": [
    "X_train, X_test, y_train, y_test = train_test_split(labeled, target, test_size=0.2, random_state=42,shuffle=True)"
   ]
  },
  {
   "cell_type": "code",
   "execution_count": 58,
   "metadata": {},
   "outputs": [
    {
     "data": {
      "text/plain": [
       "14968881"
      ]
     },
     "execution_count": 58,
     "metadata": {},
     "output_type": "execute_result"
    }
   ],
   "source": [
    "len(labeled)"
   ]
  },
  {
   "cell_type": "code",
   "execution_count": 22,
   "metadata": {},
   "outputs": [
    {
     "data": {
      "text/plain": [
       "14968881"
      ]
     },
     "execution_count": 22,
     "metadata": {},
     "output_type": "execute_result"
    }
   ],
   "source": [
    "len(labeled)"
   ]
  },
  {
   "cell_type": "markdown",
   "metadata": {},
   "source": [
    "Garbage Collection"
   ]
  },
  {
   "cell_type": "code",
   "execution_count": 22,
   "metadata": {},
   "outputs": [],
   "source": [
    "import gc"
   ]
  },
  {
   "cell_type": "code",
   "execution_count": 23,
   "metadata": {},
   "outputs": [],
   "source": [
    "labeled=0\n",
    "buildings=0\n",
    "target=0\n",
    "classes=0"
   ]
  },
  {
   "cell_type": "code",
   "execution_count": 24,
   "metadata": {},
   "outputs": [
    {
     "data": {
      "text/plain": [
       "0"
      ]
     },
     "execution_count": 24,
     "metadata": {},
     "output_type": "execute_result"
    }
   ],
   "source": [
    "gc.collect()"
   ]
  },
  {
   "cell_type": "code",
   "execution_count": 26,
   "metadata": {},
   "outputs": [
    {
     "data": {
      "text/html": [
       "<div>\n",
       "<style scoped>\n",
       "    .dataframe tbody tr th:only-of-type {\n",
       "        vertical-align: middle;\n",
       "    }\n",
       "\n",
       "    .dataframe tbody tr th {\n",
       "        vertical-align: top;\n",
       "    }\n",
       "\n",
       "    .dataframe thead th {\n",
       "        text-align: right;\n",
       "    }\n",
       "</style>\n",
       "<table border=\"1\" class=\"dataframe\">\n",
       "  <thead>\n",
       "    <tr style=\"text-align: right;\">\n",
       "      <th></th>\n",
       "      <th>Building_Area</th>\n",
       "      <th>Height</th>\n",
       "      <th>Square_Footage</th>\n",
       "      <th>landuse_cat</th>\n",
       "    </tr>\n",
       "  </thead>\n",
       "  <tbody>\n",
       "    <tr>\n",
       "      <th>12956901</th>\n",
       "      <td>178.0</td>\n",
       "      <td>3.197806</td>\n",
       "      <td>189.736496</td>\n",
       "      <td>NaN</td>\n",
       "    </tr>\n",
       "    <tr>\n",
       "      <th>2751601</th>\n",
       "      <td>201.0</td>\n",
       "      <td>5.307995</td>\n",
       "      <td>355.635686</td>\n",
       "      <td>0.0</td>\n",
       "    </tr>\n",
       "    <tr>\n",
       "      <th>13742718</th>\n",
       "      <td>175.0</td>\n",
       "      <td>6.150753</td>\n",
       "      <td>358.793954</td>\n",
       "      <td>0.0</td>\n",
       "    </tr>\n",
       "    <tr>\n",
       "      <th>8409323</th>\n",
       "      <td>32.0</td>\n",
       "      <td>2.996947</td>\n",
       "      <td>31.967430</td>\n",
       "      <td>NaN</td>\n",
       "    </tr>\n",
       "    <tr>\n",
       "      <th>3457943</th>\n",
       "      <td>395.0</td>\n",
       "      <td>5.087383</td>\n",
       "      <td>669.838797</td>\n",
       "      <td>NaN</td>\n",
       "    </tr>\n",
       "    <tr>\n",
       "      <th>...</th>\n",
       "      <td>...</td>\n",
       "      <td>...</td>\n",
       "      <td>...</td>\n",
       "      <td>...</td>\n",
       "    </tr>\n",
       "    <tr>\n",
       "      <th>4305874</th>\n",
       "      <td>199.0</td>\n",
       "      <td>4.848610</td>\n",
       "      <td>321.624490</td>\n",
       "      <td>0.0</td>\n",
       "    </tr>\n",
       "    <tr>\n",
       "      <th>10086090</th>\n",
       "      <td>470.0</td>\n",
       "      <td>4.278526</td>\n",
       "      <td>670.302455</td>\n",
       "      <td>0.0</td>\n",
       "    </tr>\n",
       "    <tr>\n",
       "      <th>6553818</th>\n",
       "      <td>195.0</td>\n",
       "      <td>5.870377</td>\n",
       "      <td>381.574509</td>\n",
       "      <td>NaN</td>\n",
       "    </tr>\n",
       "    <tr>\n",
       "      <th>6426541</th>\n",
       "      <td>2388.0</td>\n",
       "      <td>5.953478</td>\n",
       "      <td>4738.968756</td>\n",
       "      <td>1.0</td>\n",
       "    </tr>\n",
       "    <tr>\n",
       "      <th>14809652</th>\n",
       "      <td>79.0</td>\n",
       "      <td>2.909277</td>\n",
       "      <td>76.610973</td>\n",
       "      <td>NaN</td>\n",
       "    </tr>\n",
       "  </tbody>\n",
       "</table>\n",
       "<p>11975104 rows × 4 columns</p>\n",
       "</div>"
      ],
      "text/plain": [
       "          Building_Area    Height  Square_Footage  landuse_cat\n",
       "12956901          178.0  3.197806      189.736496          NaN\n",
       "2751601           201.0  5.307995      355.635686          0.0\n",
       "13742718          175.0  6.150753      358.793954          0.0\n",
       "8409323            32.0  2.996947       31.967430          NaN\n",
       "3457943           395.0  5.087383      669.838797          NaN\n",
       "...                 ...       ...             ...          ...\n",
       "4305874           199.0  4.848610      321.624490          0.0\n",
       "10086090          470.0  4.278526      670.302455          0.0\n",
       "6553818           195.0  5.870377      381.574509          NaN\n",
       "6426541          2388.0  5.953478     4738.968756          1.0\n",
       "14809652           79.0  2.909277       76.610973          NaN\n",
       "\n",
       "[11975104 rows x 4 columns]"
      ]
     },
     "execution_count": 26,
     "metadata": {},
     "output_type": "execute_result"
    }
   ],
   "source": [
    "X_train"
   ]
  },
  {
   "cell_type": "code",
   "execution_count": 27,
   "metadata": {},
   "outputs": [
    {
     "data": {
      "text/plain": [
       "12956901    0\n",
       "2751601     0\n",
       "13742718    0\n",
       "8409323     7\n",
       "3457943     0\n",
       "           ..\n",
       "4305874     0\n",
       "10086090    0\n",
       "6553818     0\n",
       "6426541     1\n",
       "14809652    7\n",
       "Name: building, Length: 11975104, dtype: int64"
      ]
     },
     "execution_count": 27,
     "metadata": {},
     "output_type": "execute_result"
    }
   ],
   "source": [
    "y_train"
   ]
  },
  {
   "cell_type": "markdown",
   "metadata": {},
   "source": [
    "Create Dataset for LGBM"
   ]
  },
  {
   "cell_type": "code",
   "execution_count": 25,
   "metadata": {},
   "outputs": [],
   "source": [
    "lgb_train = lgb.Dataset(\n",
    "    X_train,\n",
    "    y_train,\n",
    "    categorical_feature=['f4'],\n",
    "    feature_name=[f\"f{i + 1}\" for i in range(X_train.shape[-1])]\n",
    ")\n",
    "lgb_test = lgb.Dataset(X_test, y_test, reference=lgb_train)\n",
    "#lgb_valid = lgb.Dataset(X_valid, y_valid, reference=lgb_train)"
   ]
  },
  {
   "cell_type": "code",
   "execution_count": 26,
   "metadata": {},
   "outputs": [],
   "source": [
    "params = {\"learning_rate\": 0.01, \"verbose\": -1,\"boosting_type\": \"gbdt\", \"objective\":\"multiclass\",\"num_classes\":10,\"min_data_in_leaf\": 200}"
   ]
  },
  {
   "cell_type": "code",
   "execution_count": 27,
   "metadata": {},
   "outputs": [
    {
     "data": {
      "text/plain": [
       "['f1', 'f2', 'f3', 'f4']"
      ]
     },
     "execution_count": 27,
     "metadata": {},
     "output_type": "execute_result"
    }
   ],
   "source": [
    "lgb_train.feature_name"
   ]
  },
  {
   "cell_type": "code",
   "execution_count": null,
   "metadata": {},
   "outputs": [],
   "source": [
    "#evals_result = {}\n",
    "#num_round = 1700\n",
    "#cv_results = lgb.cv(\n",
    "#    params,\n",
    "#    lgb_train,\n",
    "#    num_boost_round=num_round,\n",
    "#    nfold=5,\n",
    "#    callbacks=[ lgb.log_evaluation(10)],\n",
    "#    stratified=False\n",
    "#)\n"
   ]
  },
  {
   "cell_type": "markdown",
   "metadata": {},
   "source": [
    "Training"
   ]
  },
  {
   "cell_type": "code",
   "execution_count": 28,
   "metadata": {},
   "outputs": [
    {
     "name": "stdout",
     "output_type": "stream",
     "text": [
      "1700\n",
      "[10]\ttraining's multi_logloss: 0.435594\n",
      "[20]\ttraining's multi_logloss: 0.39916\n",
      "[30]\ttraining's multi_logloss: 0.375813\n",
      "[40]\ttraining's multi_logloss: 0.359381\n",
      "[50]\ttraining's multi_logloss: 0.347264\n",
      "[60]\ttraining's multi_logloss: 0.338077\n",
      "[70]\ttraining's multi_logloss: 0.330995\n",
      "[80]\ttraining's multi_logloss: 0.325463\n",
      "[90]\ttraining's multi_logloss: 0.321098\n",
      "[100]\ttraining's multi_logloss: 0.317633\n",
      "[110]\ttraining's multi_logloss: 0.314862\n",
      "[120]\ttraining's multi_logloss: 0.312637\n",
      "[130]\ttraining's multi_logloss: 0.310841\n",
      "[140]\ttraining's multi_logloss: 0.309384\n",
      "[150]\ttraining's multi_logloss: 0.308196\n",
      "[160]\ttraining's multi_logloss: 0.307223\n",
      "[170]\ttraining's multi_logloss: 0.30642\n",
      "[180]\ttraining's multi_logloss: 0.305758\n",
      "[190]\ttraining's multi_logloss: 0.305207\n",
      "[200]\ttraining's multi_logloss: 0.304748\n",
      "[210]\ttraining's multi_logloss: 0.30436\n",
      "[220]\ttraining's multi_logloss: 0.304032\n",
      "[230]\ttraining's multi_logloss: 0.303753\n",
      "[240]\ttraining's multi_logloss: 0.303518\n",
      "[250]\ttraining's multi_logloss: 0.303313\n",
      "[260]\ttraining's multi_logloss: 0.303135\n",
      "[270]\ttraining's multi_logloss: 0.302978\n",
      "[280]\ttraining's multi_logloss: 0.302842\n",
      "[290]\ttraining's multi_logloss: 0.302722\n",
      "[300]\ttraining's multi_logloss: 0.302617\n",
      "[310]\ttraining's multi_logloss: 0.302523\n",
      "[320]\ttraining's multi_logloss: 0.302439\n",
      "[330]\ttraining's multi_logloss: 0.302364\n",
      "[340]\ttraining's multi_logloss: 0.302295\n",
      "[350]\ttraining's multi_logloss: 0.302233\n",
      "[360]\ttraining's multi_logloss: 0.302178\n",
      "[370]\ttraining's multi_logloss: 0.302127\n",
      "[380]\ttraining's multi_logloss: 0.30208\n",
      "[390]\ttraining's multi_logloss: 0.302038\n",
      "[400]\ttraining's multi_logloss: 0.302\n",
      "[410]\ttraining's multi_logloss: 0.301965\n",
      "[420]\ttraining's multi_logloss: 0.301932\n",
      "[430]\ttraining's multi_logloss: 0.3019\n",
      "[440]\ttraining's multi_logloss: 0.301871\n",
      "[450]\ttraining's multi_logloss: 0.301843\n",
      "[460]\ttraining's multi_logloss: 0.301815\n",
      "[470]\ttraining's multi_logloss: 0.301789\n",
      "[480]\ttraining's multi_logloss: 0.301765\n",
      "[490]\ttraining's multi_logloss: 0.301742\n",
      "[500]\ttraining's multi_logloss: 0.30172\n",
      "[510]\ttraining's multi_logloss: 0.301697\n",
      "[520]\ttraining's multi_logloss: 0.301676\n",
      "[530]\ttraining's multi_logloss: 0.301655\n",
      "[540]\ttraining's multi_logloss: 0.301635\n",
      "[550]\ttraining's multi_logloss: 0.301614\n",
      "[560]\ttraining's multi_logloss: 0.301594\n",
      "[570]\ttraining's multi_logloss: 0.301574\n",
      "[580]\ttraining's multi_logloss: 0.301557\n",
      "[590]\ttraining's multi_logloss: 0.30154\n",
      "[600]\ttraining's multi_logloss: 0.301524\n",
      "[610]\ttraining's multi_logloss: 0.301508\n",
      "[620]\ttraining's multi_logloss: 0.301492\n",
      "[630]\ttraining's multi_logloss: 0.301477\n",
      "[640]\ttraining's multi_logloss: 0.301463\n",
      "[650]\ttraining's multi_logloss: 0.301449\n",
      "[660]\ttraining's multi_logloss: 0.301434\n",
      "[670]\ttraining's multi_logloss: 0.30142\n",
      "[680]\ttraining's multi_logloss: 0.301406\n",
      "[690]\ttraining's multi_logloss: 0.301393\n",
      "[700]\ttraining's multi_logloss: 0.301379\n",
      "[710]\ttraining's multi_logloss: 0.301365\n",
      "[720]\ttraining's multi_logloss: 0.301351\n",
      "[730]\ttraining's multi_logloss: 0.301338\n",
      "[740]\ttraining's multi_logloss: 0.301325\n",
      "[750]\ttraining's multi_logloss: 0.301313\n",
      "[760]\ttraining's multi_logloss: 0.301299\n",
      "[770]\ttraining's multi_logloss: 0.301286\n",
      "[780]\ttraining's multi_logloss: 0.301274\n",
      "[790]\ttraining's multi_logloss: 0.301261\n",
      "[800]\ttraining's multi_logloss: 0.301249\n",
      "[810]\ttraining's multi_logloss: 0.301237\n",
      "[820]\ttraining's multi_logloss: 0.301226\n",
      "[830]\ttraining's multi_logloss: 0.301214\n",
      "[840]\ttraining's multi_logloss: 0.301203\n",
      "[850]\ttraining's multi_logloss: 0.301192\n",
      "[860]\ttraining's multi_logloss: 0.30118\n",
      "[870]\ttraining's multi_logloss: 0.301169\n",
      "[880]\ttraining's multi_logloss: 0.301157\n",
      "[890]\ttraining's multi_logloss: 0.301145\n",
      "[900]\ttraining's multi_logloss: 0.301134\n",
      "[910]\ttraining's multi_logloss: 0.301123\n",
      "[920]\ttraining's multi_logloss: 0.301113\n",
      "[930]\ttraining's multi_logloss: 0.301102\n",
      "[940]\ttraining's multi_logloss: 0.301092\n",
      "[950]\ttraining's multi_logloss: 0.301081\n",
      "[960]\ttraining's multi_logloss: 0.301071\n",
      "[970]\ttraining's multi_logloss: 0.30106\n",
      "[980]\ttraining's multi_logloss: 0.30105\n",
      "[990]\ttraining's multi_logloss: 0.30104\n",
      "[1000]\ttraining's multi_logloss: 0.30103\n",
      "[1010]\ttraining's multi_logloss: 0.301019\n",
      "[1020]\ttraining's multi_logloss: 0.30101\n",
      "[1030]\ttraining's multi_logloss: 0.301\n",
      "[1040]\ttraining's multi_logloss: 0.300989\n",
      "[1050]\ttraining's multi_logloss: 0.300979\n",
      "[1060]\ttraining's multi_logloss: 0.300968\n",
      "[1070]\ttraining's multi_logloss: 0.300958\n",
      "[1080]\ttraining's multi_logloss: 0.300948\n",
      "[1090]\ttraining's multi_logloss: 0.300939\n",
      "[1100]\ttraining's multi_logloss: 0.300929\n",
      "[1110]\ttraining's multi_logloss: 0.30092\n",
      "[1120]\ttraining's multi_logloss: 0.300911\n",
      "[1130]\ttraining's multi_logloss: 0.300902\n",
      "[1140]\ttraining's multi_logloss: 0.300893\n",
      "[1150]\ttraining's multi_logloss: 0.300884\n",
      "[1160]\ttraining's multi_logloss: 0.300874\n",
      "[1170]\ttraining's multi_logloss: 0.300865\n",
      "[1180]\ttraining's multi_logloss: 0.300856\n",
      "[1190]\ttraining's multi_logloss: 0.300847\n",
      "[1200]\ttraining's multi_logloss: 0.300838\n",
      "[1210]\ttraining's multi_logloss: 0.30083\n",
      "[1220]\ttraining's multi_logloss: 0.300821\n",
      "[1230]\ttraining's multi_logloss: 0.300812\n",
      "[1240]\ttraining's multi_logloss: 0.300803\n",
      "[1250]\ttraining's multi_logloss: 0.300794\n",
      "[1260]\ttraining's multi_logloss: 0.300785\n",
      "[1270]\ttraining's multi_logloss: 0.300777\n",
      "[1280]\ttraining's multi_logloss: 0.300768\n",
      "[1290]\ttraining's multi_logloss: 0.30076\n",
      "[1300]\ttraining's multi_logloss: 0.300751\n",
      "[1310]\ttraining's multi_logloss: 0.300743\n",
      "[1320]\ttraining's multi_logloss: 0.300735\n",
      "[1330]\ttraining's multi_logloss: 0.300726\n",
      "[1340]\ttraining's multi_logloss: 0.300718\n",
      "[1350]\ttraining's multi_logloss: 0.30071\n",
      "[1360]\ttraining's multi_logloss: 0.300702\n",
      "[1370]\ttraining's multi_logloss: 0.300693\n",
      "[1380]\ttraining's multi_logloss: 0.300686\n",
      "[1390]\ttraining's multi_logloss: 0.300677\n",
      "[1400]\ttraining's multi_logloss: 0.300669\n",
      "[1410]\ttraining's multi_logloss: 0.300661\n",
      "[1420]\ttraining's multi_logloss: 0.300653\n",
      "[1430]\ttraining's multi_logloss: 0.300646\n",
      "[1440]\ttraining's multi_logloss: 0.300638\n",
      "[1450]\ttraining's multi_logloss: 0.30063\n",
      "[1460]\ttraining's multi_logloss: 0.300622\n",
      "[1470]\ttraining's multi_logloss: 0.300614\n",
      "[1480]\ttraining's multi_logloss: 0.300606\n",
      "[1490]\ttraining's multi_logloss: 0.300598\n",
      "[1500]\ttraining's multi_logloss: 0.30059\n",
      "[1510]\ttraining's multi_logloss: 0.300583\n",
      "[1520]\ttraining's multi_logloss: 0.300575\n",
      "[1530]\ttraining's multi_logloss: 0.300567\n",
      "[1540]\ttraining's multi_logloss: 0.30056\n",
      "[1550]\ttraining's multi_logloss: 0.300552\n",
      "[1560]\ttraining's multi_logloss: 0.300544\n",
      "[1570]\ttraining's multi_logloss: 0.300537\n",
      "[1580]\ttraining's multi_logloss: 0.300529\n",
      "[1590]\ttraining's multi_logloss: 0.300521\n",
      "[1600]\ttraining's multi_logloss: 0.300514\n",
      "[1610]\ttraining's multi_logloss: 0.300506\n",
      "[1620]\ttraining's multi_logloss: 0.300499\n",
      "[1630]\ttraining's multi_logloss: 0.300491\n",
      "[1640]\ttraining's multi_logloss: 0.300484\n",
      "[1650]\ttraining's multi_logloss: 0.300476\n",
      "[1660]\ttraining's multi_logloss: 0.300468\n",
      "[1670]\ttraining's multi_logloss: 0.300461\n",
      "[1680]\ttraining's multi_logloss: 0.300453\n",
      "[1690]\ttraining's multi_logloss: 0.300445\n",
      "[1700]\ttraining's multi_logloss: 0.300438\n"
     ]
    }
   ],
   "source": [
    "train_result = {}\n",
    "best_round = 1700\n",
    "print(best_round)\n",
    "model = lgb.train(params, lgb_train, num_boost_round=best_round,valid_sets=[lgb_train],\n",
    "    callbacks=[lgb.log_evaluation(10), lgb.record_evaluation(train_result)])"
   ]
  },
  {
   "cell_type": "code",
   "execution_count": 32,
   "metadata": {},
   "outputs": [
    {
     "data": {
      "text/plain": [
       "11975104"
      ]
     },
     "execution_count": 32,
     "metadata": {},
     "output_type": "execute_result"
    }
   ],
   "source": [
    "len(X_train)"
   ]
  },
  {
   "cell_type": "code",
   "execution_count": 33,
   "metadata": {},
   "outputs": [
    {
     "data": {
      "text/plain": [
       "2993777"
      ]
     },
     "execution_count": 33,
     "metadata": {},
     "output_type": "execute_result"
    }
   ],
   "source": [
    "len(X_test)"
   ]
  },
  {
   "cell_type": "code",
   "execution_count": 34,
   "metadata": {},
   "outputs": [
    {
     "data": {
      "text/plain": [
       "14968881"
      ]
     },
     "execution_count": 34,
     "metadata": {},
     "output_type": "execute_result"
    }
   ],
   "source": [
    "len(X_train)+len(X_test)"
   ]
  },
  {
   "cell_type": "markdown",
   "metadata": {},
   "source": [
    "Load Model From Existing (If Possible)"
   ]
  },
  {
   "cell_type": "code",
   "execution_count": 23,
   "metadata": {},
   "outputs": [],
   "source": [
    "model= lgb.Booster(model_file='building_model.txt')"
   ]
  },
  {
   "cell_type": "markdown",
   "metadata": {},
   "source": [
    "Testing"
   ]
  },
  {
   "cell_type": "code",
   "execution_count": 24,
   "metadata": {},
   "outputs": [
    {
     "name": "stdout",
     "output_type": "stream",
     "text": [
      "Mean Absolute Error: 0.3023025374533888\n"
     ]
    }
   ],
   "source": [
    "y_pred = model.predict(X_test)\n",
    "log = log_loss(y_test, y_pred)\n",
    "print(\"Mean Absolute Error:\", log)"
   ]
  },
  {
   "cell_type": "code",
   "execution_count": 29,
   "metadata": {},
   "outputs": [],
   "source": [
    "from pathlib import Path\n",
    "\n",
    "import matplotlib.pyplot as plt\n",
    "import pandas as pd\n",
    "\n",
    "import lightgbm as lgb\n",
    "\n",
    "%matplotlib inline\n",
    "\n",
    "try:\n",
    "    # To enable interactive mode you should install ipywidgets\n",
    "    # https://github.com/jupyter-widgets/ipywidgets\n",
    "    from ipywidgets import interact, SelectMultiple\n",
    "\n",
    "    INTERACTIVE = True\n",
    "except ImportError:\n",
    "    INTERACTIVE = False"
   ]
  },
  {
   "cell_type": "code",
   "execution_count": 33,
   "metadata": {},
   "outputs": [
    {
     "data": {
      "text/plain": [
       "defaultdict(collections.OrderedDict,\n",
       "            {'training': OrderedDict([('multi_logloss',\n",
       "                           0.30043786297393904)])})"
      ]
     },
     "execution_count": 33,
     "metadata": {},
     "output_type": "execute_result"
    }
   ],
   "source": [
    "model.best_score"
   ]
  },
  {
   "cell_type": "code",
   "execution_count": 30,
   "metadata": {},
   "outputs": [],
   "source": [
    "def render_metric(metric_name):\n",
    "    \n",
    "    lgb.plot_metric(train_result,metric=metric_name, figsize=(10, 5))"
   ]
  },
  {
   "cell_type": "code",
   "execution_count": 37,
   "metadata": {},
   "outputs": [
    {
     "data": {
      "text/plain": [
       "{'learning_rate': 0.01,\n",
       " 'verbose': -1,\n",
       " 'boosting_type': 'gbdt',\n",
       " 'objective': 'multiclass',\n",
       " 'num_classes': 10,\n",
       " 'min_data_in_leaf': 200,\n",
       " 'num_iterations': 1700,\n",
       " 'categorical_column': [3]}"
      ]
     },
     "execution_count": 37,
     "metadata": {},
     "output_type": "execute_result"
    }
   ],
   "source": [
    "model.params"
   ]
  },
  {
   "cell_type": "code",
   "execution_count": 31,
   "metadata": {},
   "outputs": [
    {
     "data": {
      "image/png": "[encoded data removed]",
      "text/plain": [
       "<Figure size 1000x500 with 1 Axes>"
      ]
     },
     "metadata": {},
     "output_type": "display_data"
    }
   ],
   "source": [
    "if INTERACTIVE:\n",
    "    # create widget to switch between metrics\n",
    "    interact(render_metric, metric_name='multi_logloss')\n",
    "else:\n",
    "    render_metric('multi_logloss')"
   ]
  },
  {
   "cell_type": "markdown",
   "metadata": {},
   "source": [
    "Save Model"
   ]
  },
  {
   "cell_type": "code",
   "execution_count": 39,
   "metadata": {},
   "outputs": [
    {
     "data": {
      "text/plain": [
       "<lightgbm.basic.Booster at 0x25d75b32510>"
      ]
     },
     "execution_count": 39,
     "metadata": {},
     "output_type": "execute_result"
    }
   ],
   "source": [
    "model.save_model('building_model.txt')"
   ]
  }
 ],
 "metadata": {
  "kernelspec": {
   "display_name": "Python 3",
   "language": "python",
   "name": "python3"
  },
  "language_info": {
   "codemirror_mode": {
    "name": "ipython",
    "version": 3
   },
   "file_extension": ".py",
   "mimetype": "text/x-python",
   "name": "python",
   "nbconvert_exporter": "python",
   "pygments_lexer": "ipython3",
   "version": "3.11.9"
  }
 },
 "nbformat": 4,
 "nbformat_minor": 2
}

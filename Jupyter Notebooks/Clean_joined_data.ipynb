{
 "cells": [
  {
   "cell_type": "code",
   "execution_count": 1,
   "metadata": {},
   "outputs": [],
   "source": [
    "import pandas as pd"
   ]
  },
  {
   "cell_type": "markdown",
   "metadata": {},
   "source": [
    "Comment sections are from older version"
   ]
  },
  {
   "cell_type": "code",
   "execution_count": 50,
   "metadata": {},
   "outputs": [],
   "source": [
    "#buildings=[]"
   ]
  },
  {
   "cell_type": "code",
   "execution_count": 51,
   "metadata": {},
   "outputs": [
    {
     "name": "stderr",
     "output_type": "stream",
     "text": [
      "C:\\Users\\nairk\\AppData\\Local\\Temp\\ipykernel_19896\\360483456.py:7: DtypeWarning: Columns (6,7,10,11,13,14,15,17,18,19,20,21,22,23,25,26) have mixed types. Specify dtype option on import or set low_memory=False.\n",
      "  row=pd.read_csv(path,dtype={'GEOID': object})\n"
     ]
    },
    {
     "name": "stdout",
     "output_type": "stream",
     "text": [
      "45\n"
     ]
    },
    {
     "name": "stderr",
     "output_type": "stream",
     "text": [
      "C:\\Users\\nairk\\AppData\\Local\\Temp\\ipykernel_19896\\360483456.py:7: DtypeWarning: Columns (6,7,10,11,13,15,17,18,19,20,21,22,23,24,25,26) have mixed types. Specify dtype option on import or set low_memory=False.\n",
      "  row=pd.read_csv(path,dtype={'GEOID': object})\n"
     ]
    },
    {
     "name": "stdout",
     "output_type": "stream",
     "text": [
      "45\n"
     ]
    },
    {
     "name": "stderr",
     "output_type": "stream",
     "text": [
      "C:\\Users\\nairk\\AppData\\Local\\Temp\\ipykernel_19896\\360483456.py:7: DtypeWarning: Columns (6,7,10,11,13,15,17,18,19,20,21,22,23,25,26) have mixed types. Specify dtype option on import or set low_memory=False.\n",
      "  row=pd.read_csv(path,dtype={'GEOID': object})\n"
     ]
    },
    {
     "name": "stdout",
     "output_type": "stream",
     "text": [
      "45\n"
     ]
    },
    {
     "name": "stderr",
     "output_type": "stream",
     "text": [
      "C:\\Users\\nairk\\AppData\\Local\\Temp\\ipykernel_19896\\360483456.py:7: DtypeWarning: Columns (6,7,10,11,13,15,19,20,22,23) have mixed types. Specify dtype option on import or set low_memory=False.\n",
      "  row=pd.read_csv(path,dtype={'GEOID': object})\n"
     ]
    },
    {
     "name": "stdout",
     "output_type": "stream",
     "text": [
      "45\n"
     ]
    },
    {
     "name": "stderr",
     "output_type": "stream",
     "text": [
      "C:\\Users\\nairk\\AppData\\Local\\Temp\\ipykernel_19896\\360483456.py:7: DtypeWarning: Columns (6,10,11,13,15,17,20,21,22,23,25) have mixed types. Specify dtype option on import or set low_memory=False.\n",
      "  row=pd.read_csv(path,dtype={'GEOID': object})\n"
     ]
    },
    {
     "name": "stdout",
     "output_type": "stream",
     "text": [
      "45\n"
     ]
    },
    {
     "name": "stderr",
     "output_type": "stream",
     "text": [
      "C:\\Users\\nairk\\AppData\\Local\\Temp\\ipykernel_19896\\360483456.py:7: DtypeWarning: Columns (6,7,10,11,13,15,17,18,19,20,21,22,23,24,25,26) have mixed types. Specify dtype option on import or set low_memory=False.\n",
      "  row=pd.read_csv(path,dtype={'GEOID': object})\n"
     ]
    },
    {
     "name": "stdout",
     "output_type": "stream",
     "text": [
      "45\n"
     ]
    }
   ],
   "source": [
    "#import os\n",
    "\n",
    "#directory = \"C:\\\\Users\\\\nairk\\\\census-by-precincts\\\\info\\\\Unmerged_Tracts\"\n",
    "#for file in os.listdir(directory):\n",
    "#    path = os.path.join(directory, file)\n",
    "#    if os.path.isfile(path):\n",
    "#        row=pd.read_csv(path,dtype={'GEOID': object})\n",
    "#        print(len(row.columns))\n",
    "#        buildings.append(row)\n",
    "#    else:\n",
    "#        print(\"NO FILE\")"
   ]
  },
  {
   "cell_type": "code",
   "execution_count": 52,
   "metadata": {},
   "outputs": [],
   "source": [
    "#dfb=pd.concat(buildings,ignore_index=True)"
   ]
  },
  {
   "cell_type": "markdown",
   "metadata": {},
   "source": [
    "Load in Building and Non Building Polygon csv files "
   ]
  },
  {
   "cell_type": "code",
   "execution_count": 30,
   "metadata": {},
   "outputs": [
    {
     "name": "stderr",
     "output_type": "stream",
     "text": [
      "C:\\Users\\nairk\\AppData\\Local\\Temp\\ipykernel_4120\\4168640630.py:1: DtypeWarning: Columns (10,12,14,16,18,19,20,21,22,25) have mixed types. Specify dtype option on import or set low_memory=False.\n",
      "  dfb1=pd.read_csv(filepath_or_buffer=\"C:\\\\Users\\\\nairk\\OneDrive - The Pennsylvania State University\\MS_Merged\\\\Pennsylvania\\\\PA_Buildings.csv\")\n"
     ]
    }
   ],
   "source": [
    "dfb1=pd.read_csv(filepath_or_buffer=\"C:\\\\Users\\\\nairk\\OneDrive - The Pennsylvania State University\\MS_Merged\\\\Pennsylvania\\\\PA_Buildings.csv\")"
   ]
  },
  {
   "cell_type": "code",
   "execution_count": 107,
   "metadata": {},
   "outputs": [
    {
     "name": "stderr",
     "output_type": "stream",
     "text": [
      "C:\\Users\\nairk\\AppData\\Local\\Temp\\ipykernel_4120\\445027478.py:1: DtypeWarning: Columns (6,12,13,16,20,22) have mixed types. Specify dtype option on import or set low_memory=False.\n",
      "  dfb2=pd.read_csv(\"C:\\\\Users\\\\nairk\\OneDrive - The Pennsylvania State University\\MS_Merged\\\\Pennsylvania\\\\PA_Non_Buildings.csv\")\n"
     ]
    }
   ],
   "source": [
    "dfb2=pd.read_csv(\"C:\\\\Users\\\\nairk\\OneDrive - The Pennsylvania State University\\MS_Merged\\\\Pennsylvania\\\\PA_Non_Buildings.csv\")"
   ]
  },
  {
   "cell_type": "code",
   "execution_count": 31,
   "metadata": {},
   "outputs": [
    {
     "data": {
      "text/plain": [
       "Index(['properties', 'id', 'Building_Area', 'GEOID', 'NAMELSAD', 'COUNTYNS',\n",
       "       'Area', 'Tract', 'osm_id', 'osm_way_id', 'aeroway', 'amenity',\n",
       "       'barrier', 'building', 'craft', 'geological', 'historic', 'land_area',\n",
       "       'leisure', 'man_made', 'military', 'natural', 'office', 'place', 'shop',\n",
       "       'sport', 'tourism', 'other_tags', 'landuse', 'other_tags_1'],\n",
       "      dtype='object')"
      ]
     },
     "execution_count": 31,
     "metadata": {},
     "output_type": "execute_result"
    }
   ],
   "source": [
    "dfb1.columns"
   ]
  },
  {
   "cell_type": "code",
   "execution_count": 108,
   "metadata": {},
   "outputs": [
    {
     "data": {
      "text/plain": [
       "Index(['Join_Count', 'TARGET_FID', 'JOIN_FID', 'osm_id', 'osm_way_id', 'name',\n",
       "       'type', 'aeroway', 'amenity', 'admin_level', 'barrier', 'boundary',\n",
       "       'building', 'craft', 'geological', 'historic', 'land_area', 'landuse',\n",
       "       'leisure', 'man_made', 'military', 'natural', 'office', 'place', 'shop',\n",
       "       'sport', 'tourism', 'other_tags', 'OBJECTID_1', 'GEOID', 'NAMELSAD',\n",
       "       'ALAND', 'AWATER', 'INTPTLAT', 'INTPTLON', 'COUNTYNS', 'CLASSFP',\n",
       "       'FUNCSTAT', 'Area', 'Tract', 'Shape_Length_1', 'Shape_Area_1',\n",
       "       'Shape_Length', 'Shape_Area'],\n",
       "      dtype='object')"
      ]
     },
     "execution_count": 108,
     "metadata": {},
     "output_type": "execute_result"
    }
   ],
   "source": [
    "dfb2.columns"
   ]
  },
  {
   "cell_type": "markdown",
   "metadata": {},
   "source": [
    "Drop unnecessary columns if they were not previously removed"
   ]
  },
  {
   "cell_type": "code",
   "execution_count": 4,
   "metadata": {},
   "outputs": [],
   "source": [
    "dfb1=dfb1.drop(columns=['Join_Count', 'TARGET_FID', 'Join_Count_1', 'TARGET_FID_1',\n",
    "       'Join_Count_12', 'TARGET_FID_12', 'type',\n",
    "        'OBJECTID_1', 'ALAND', 'AWATER', 'CLASSFP', 'FUNCSTAT',  'Shape_Length_1', 'Shape_Area_1', 'Shape_Length_12',\n",
    "       'Shape_Area_12', 'osm_id_1', 'osm_way_id_1', 'name_1', 'type_12',\n",
    "        'other_tags_1', 'Shape_Length_12_13', 'Shape_Area_12_13',\n",
    "       'Shape_Length', 'Shape_Area'])"
   ]
  },
  {
   "cell_type": "code",
   "execution_count": 109,
   "metadata": {},
   "outputs": [],
   "source": [
    "dfb2=dfb2.drop(columns=['Join_Count', 'TARGET_FID', 'JOIN_FID', 'name','admin_level','type',\n",
    "       'OBJECTID_1','land_area', 'ALAND', 'AWATER', 'CLASSFP', 'FUNCSTAT','Shape_Length_1', 'Shape_Area_1',\n",
    "       'Shape_Length', 'Shape_Area'])"
   ]
  },
  {
   "cell_type": "code",
   "execution_count": 62,
   "metadata": {},
   "outputs": [
    {
     "data": {
      "text/plain": [
       "Index(['properties', 'id', 'Building_Area', 'GEOID', 'NAMELSAD', 'INTPTLAT',\n",
       "       'INTPTLON', 'COUNTYNS', 'Tract', 'Area', 'osm_id', 'osm_way_id', 'name',\n",
       "       'type_1', 'aeroway', 'amenity', 'admin_level', 'barrier', 'boundary',\n",
       "       'building', 'craft', 'geological', 'historic', 'land_area', 'leisure',\n",
       "       'man_made', 'military', 'natural', 'office', 'place', 'shop', 'sport',\n",
       "       'tourism', 'other_tags', 'landuse'],\n",
       "      dtype='object')"
      ]
     },
     "execution_count": 62,
     "metadata": {},
     "output_type": "execute_result"
    }
   ],
   "source": [
    "dfb1.columns"
   ]
  },
  {
   "cell_type": "code",
   "execution_count": 110,
   "metadata": {},
   "outputs": [
    {
     "data": {
      "text/plain": [
       "Index(['osm_id', 'osm_way_id', 'aeroway', 'amenity', 'barrier', 'boundary',\n",
       "       'building', 'craft', 'geological', 'historic', 'landuse', 'leisure',\n",
       "       'man_made', 'military', 'natural', 'office', 'place', 'shop', 'sport',\n",
       "       'tourism', 'other_tags', 'GEOID', 'NAMELSAD', 'INTPTLAT', 'INTPTLON',\n",
       "       'COUNTYNS', 'Area', 'Tract'],\n",
       "      dtype='object')"
      ]
     },
     "execution_count": 110,
     "metadata": {},
     "output_type": "execute_result"
    }
   ],
   "source": [
    "dfb2.columns"
   ]
  },
  {
   "cell_type": "markdown",
   "metadata": {},
   "source": [
    "Correction for some data"
   ]
  },
  {
   "cell_type": "code",
   "execution_count": 48,
   "metadata": {},
   "outputs": [],
   "source": [
    "dfb2.rename(columns={\"AREA\":\"Area\"},inplace=True)"
   ]
  },
  {
   "cell_type": "markdown",
   "metadata": {},
   "source": [
    "Categorize OSM labels into 10 classes"
   ]
  },
  {
   "cell_type": "code",
   "execution_count": 5,
   "metadata": {},
   "outputs": [],
   "source": [
    "classes={}"
   ]
  },
  {
   "cell_type": "code",
   "execution_count": 6,
   "metadata": {},
   "outputs": [],
   "source": [
    "build_Acc=['residential_duplex','chalet','guest_house','duplex','residence','condo','accomodation','Residential_Condominium','condominiums','mansion','residences','mobile_home','townhome','fraternity house','motel','apartments', 'barracks', 'bungalow', 'cabin','Condominium','condominium','condomnium' ,'detached', 'annexe' ,'dormitory', 'farm','ger','hotel','house','houses','houseboat','residential','semidetached_house','static_caravan','stilt_house','terrace','tree_house','trullo']\n",
    "build_Com=['store','cinema','factory','business','shopping','mall','COMMERCIAL','theatre','saloon','amphitheatre','pharmacy','grocery_store','commercial','casino','market','laundromat','bar','restaurant','commercial','industrial','kiosk','office','retail','supermarket','warehouse','bank','shop']\n",
    "build_Rel=['convent','religious','cathedral','chapel','church','kingdom_hall','monastery','mosque','presbytery','shrine','synagogue','temple']\n",
    "build_CA=['townhall','municipal','parish_hall','social_facility','community_centre','town_hall','courthouse','music_school','administration','childcare','government_office','prison','museum','Museum','police_station','jail','library','healthcare','amenity','clinic','post_office','bakehouse','bridge','civic','college','fire_station','government','gatehouse','hospital','kindergarten','museum','public','school','toilets','train_station','transportation','university']\n",
    "build_Agr=['ranch','farmhouse','barm','barns','barn','conservatory','cowshed','farm_auxiliary','greenhouse','slurry_tank','stable','sty','livestock']\n",
    "build_Sports=['skating_rink','gazebo','clubhouse','recreational','gym','sports','arena','athletic','sports','pool','grandstand','pavilion','riding_hall','sports_hall','sports_centre','stadium','gymnasium','dugout']\n",
    "build_Stor=['storage_tanks','water_tank','hanger','storage_rental','self_storage','boat storage house','loafing_shed','storage','allotment_house','boathouse','hangar','hut','shed']\n",
    "build_car=['carports','carport','garage','garages','parking','parking_shelter','parking_garage']\n",
    "build_pow=['power_substation','data_center','datacenter','power','digester','service','tech_cab','transformer_tower','water_tower','storage_tank','silo']\n",
    "build_other=['lifeguard_tower','fuel','pumping_stateion','ruin','shelter','abandoned','demolished','hogan','beach_hut','bunker','castle','construction','container','guardhouse','military','outbuilding','pagoda','quonset_hut','roof','ruins','tent','tower','windmill']"
   ]
  },
  {
   "cell_type": "code",
   "execution_count": 7,
   "metadata": {},
   "outputs": [],
   "source": [
    "for i in build_Acc:\n",
    "    classes[i]=0\n",
    "for i in build_Com:\n",
    "    classes[i]=1\n",
    "for i in build_Rel:\n",
    "    classes[i]=2\n",
    "for i in build_CA:\n",
    "    classes[i]=3\n",
    "for i in build_Agr:\n",
    "    classes[i]=4\n",
    "for i in build_Sports:\n",
    "    classes[i]=5\n",
    "for i in build_Stor:\n",
    "    classes[i]=6\n",
    "for i in build_car:\n",
    "    classes[i]=7\n",
    "for i in build_pow:\n",
    "    classes[i]=8\n",
    "for i in build_other:\n",
    "    classes[i]=9\n",
    "for i in dfb1.building.unique():\n",
    "    if classes.get(i)==None:\n",
    "        classes[i]=10"
   ]
  },
  {
   "cell_type": "code",
   "execution_count": 8,
   "metadata": {},
   "outputs": [],
   "source": [
    "landuse_Acc=[ 'residential', 'accommodation', 'duplex','commercial;residential', 'residential;commercial', 'residential;retail',]\n",
    "landuse_Com=[ 'industrial', 'commercial', 'retail', 'quarry', 'factory', 'landfill',\n",
    "       'wholesale', 'oil_field', 'demolished:industrial',\n",
    "        'warehousing', 'Warehouse','radio','airport','brownfield']\n",
    "landuse_Rel=[ 'cemetery', 'religious','churchyard']\n",
    "landuse_CA=[ 'university','education', 'municipial',\n",
    "        'municipal', 'government', 'public', 'civic_admin', 'civic', 'institutional',\n",
    "        'public_building', 'public_facility', 'quad', 'administrative', \n",
    "       'governmental', 'district',  'prison', 'public_works','public_safety', 'official',\n",
    "       'emergency', 'healthcare', 'civil', 'school', 'justice', 'observatory', 'civic_safety', 'research',\n",
    "       'transportation', 'railway', 'road_maintenance', 'administration', 'highway','village_green', 'terminal']\n",
    "landuse_Agr=['farmland', 'meadow', 'grass', 'clearing', 'forest',\n",
    "       'farmyard', 'flowerbed', 'animal_keeping', 'greenhouse_horticulture',\n",
    "       'plant_nursery', 'orchard', 'greenfield', 'aquaculture', 'vineyard',\n",
    "       'farm', 'shrubs', 'nature reserve', 'fairground','disused:farmland',\n",
    "       'pasture', 'basin', 'allotments',\n",
    "        'conservation', 'animal_enclosure', 'desert', 'apiary', 'land','agriculture', 'greenery', 'festival_grounds']\n",
    "landuse_Sports=['recreation_ground', 'leisure','winter_sports', 'recreation','park']\n",
    "landuse_Stor=[ 'reservoir', 'storage','harbour','transload','water_storage','depot','wharf','shipyard','reservoir_watershed', ]\n",
    "landuse_Car=[ 'garages', 'vehicle_repair','parking']\n",
    "landuse_Pow=['utility', 'logistics','Maintenance Area', 'waterworks','hydro_power', 'windfarm']\n",
    "landuse_Other=['military', 'construction','construction;residential', 'abandoned','historic;residential', 'demolished:industrial','rest area', 'patio','historic', 'vacant']"
   ]
  },
  {
   "cell_type": "code",
   "execution_count": 32,
   "metadata": {},
   "outputs": [],
   "source": [
    "dfb1[\"building\"] = dfb1[\"building\"].map(classes)"
   ]
  },
  {
   "cell_type": "code",
   "execution_count": 33,
   "metadata": {},
   "outputs": [
    {
     "name": "stderr",
     "output_type": "stream",
     "text": [
      "C:\\Users\\nairk\\AppData\\Local\\Temp\\ipykernel_4120\\2903940120.py:1: FutureWarning: A value is trying to be set on a copy of a DataFrame or Series through chained assignment using an inplace method.\n",
      "The behavior will change in pandas 3.0. This inplace method will never work because the intermediate object on which we are setting values always behaves as a copy.\n",
      "\n",
      "For example, when doing 'df[col].method(value, inplace=True)', try using 'df.method({col: value}, inplace=True)' or df[col] = df[col].method(value) instead, to perform the operation inplace on the original object.\n",
      "\n",
      "\n",
      "  dfb1[\"building\"].replace(10, None, inplace=True)\n"
     ]
    }
   ],
   "source": [
    "dfb1[\"building\"].replace(10, None, inplace=True)"
   ]
  },
  {
   "cell_type": "code",
   "execution_count": 11,
   "metadata": {},
   "outputs": [],
   "source": [
    "def add_land_cat(x):\n",
    "    if x in landuse_Acc:\n",
    "        return 0\n",
    "    elif x in landuse_Com:\n",
    "        return 1\n",
    "    elif x in landuse_Rel:\n",
    "        return 2\n",
    "    elif x in landuse_CA:\n",
    "        return 3\n",
    "    elif x in landuse_Agr:\n",
    "        return 4\n",
    "    elif x in landuse_Sports:\n",
    "        return 5\n",
    "    elif x in landuse_Stor:\n",
    "        return 6\n",
    "    elif x in landuse_Car:\n",
    "        return 7\n",
    "    elif x in landuse_Pow:\n",
    "        return 8\n",
    "    elif x in landuse_Other:\n",
    "        return 9\n",
    "    else:\n",
    "        return None"
   ]
  },
  {
   "cell_type": "code",
   "execution_count": 34,
   "metadata": {},
   "outputs": [],
   "source": [
    "dfb1[\"landuse_cat\"]=dfb1[\"landuse\"].apply(add_land_cat)"
   ]
  },
  {
   "cell_type": "code",
   "execution_count": 111,
   "metadata": {},
   "outputs": [],
   "source": [
    "dfb2[\"landuse_cat\"]=dfb2[\"landuse\"].apply(add_land_cat)"
   ]
  },
  {
   "cell_type": "code",
   "execution_count": 13,
   "metadata": {},
   "outputs": [],
   "source": [
    "import ast"
   ]
  },
  {
   "cell_type": "markdown",
   "metadata": {},
   "source": [
    "Add Height Attribute"
   ]
  },
  {
   "cell_type": "code",
   "execution_count": 14,
   "metadata": {},
   "outputs": [],
   "source": [
    "def add_height(x):\n",
    "    t=ast.literal_eval(x)\n",
    "    if t[\"height\"]<0:\n",
    "        return None\n",
    "    return t[\"height\"]"
   ]
  },
  {
   "cell_type": "code",
   "execution_count": 35,
   "metadata": {},
   "outputs": [],
   "source": [
    "dfb1[\"Height\"]=dfb1[\"properties\"].apply(add_height)"
   ]
  },
  {
   "cell_type": "markdown",
   "metadata": {},
   "source": [
    "Add Square Footage Attribute"
   ]
  },
  {
   "cell_type": "code",
   "execution_count": 16,
   "metadata": {},
   "outputs": [],
   "source": [
    "def squarefootage(row):\n",
    "    if row[\"Height\"] != None and row[\"Building_Area\"]!=None:\n",
    "        return (row[\"Height\"] * row[\"Building_Area\"])/3\n",
    "    else:\n",
    "        return None"
   ]
  },
  {
   "cell_type": "code",
   "execution_count": 36,
   "metadata": {},
   "outputs": [],
   "source": [
    "dfb1[\"Square_Footage\"]=dfb1.apply(squarefootage,axis=1)"
   ]
  },
  {
   "cell_type": "markdown",
   "metadata": {},
   "source": []
  },
  {
   "cell_type": "code",
   "execution_count": 18,
   "metadata": {},
   "outputs": [],
   "source": [
    "import lightgbm as lgb"
   ]
  },
  {
   "cell_type": "code",
   "execution_count": 19,
   "metadata": {},
   "outputs": [],
   "source": [
    "model= lgb.Booster(model_file='building_model.txt')"
   ]
  },
  {
   "cell_type": "code",
   "execution_count": 20,
   "metadata": {},
   "outputs": [],
   "source": [
    "from tqdm import tqdm"
   ]
  },
  {
   "cell_type": "code",
   "execution_count": 37,
   "metadata": {},
   "outputs": [],
   "source": [
    "dfb1[\"P0\"]=0.0\n",
    "dfb1[\"P1\"]=0.0\n",
    "dfb1[\"P2\"]=0.0\n",
    "dfb1[\"P3\"]=0.0\n",
    "dfb1[\"P4\"]=0.0\n",
    "dfb1[\"P5\"]=0.0\n",
    "dfb1[\"P6\"]=0.0\n",
    "dfb1[\"P7\"]=0.0\n",
    "dfb1[\"P8\"]=0.0\n",
    "dfb1[\"P9\"]=0.0"
   ]
  },
  {
   "cell_type": "code",
   "execution_count": 38,
   "metadata": {},
   "outputs": [
    {
     "data": {
      "text/plain": [
       "Index(['properties', 'id', 'Building_Area', 'GEOID', 'NAMELSAD', 'COUNTYNS',\n",
       "       'Area', 'Tract', 'osm_id', 'osm_way_id', 'aeroway', 'amenity',\n",
       "       'barrier', 'building', 'craft', 'geological', 'historic', 'land_area',\n",
       "       'leisure', 'man_made', 'military', 'natural', 'office', 'place', 'shop',\n",
       "       'sport', 'tourism', 'other_tags', 'landuse', 'other_tags_1',\n",
       "       'landuse_cat', 'Height', 'Square_Footage', 'P0', 'P1', 'P2', 'P3', 'P4',\n",
       "       'P5', 'P6', 'P7', 'P8', 'P9'],\n",
       "      dtype='object')"
      ]
     },
     "execution_count": 38,
     "metadata": {},
     "output_type": "execute_result"
    }
   ],
   "source": [
    "dfb1.columns"
   ]
  },
  {
   "cell_type": "markdown",
   "metadata": {},
   "source": [
    "Should Match:\n",
    "Index(['properties', 'id', 'Building_Area', 'GEOID', 'NAMELSAD', 'COUNTYNS',\n",
    "       'Area', 'Tract', 'osm_id', 'osm_way_id', 'aeroway', 'amenity',\n",
    "       'barrier', 'building', 'craft', 'geological', 'historic', 'land_area',\n",
    "       'leisure', 'man_made', 'military', 'natural', 'office', 'place', 'shop',\n",
    "       'sport', 'tourism', 'other_tags', 'landuse', 'other_tags_1',\n",
    "       'landuse_cat', 'Height', 'Square_Footage', 'P0', 'P1', 'P2', 'P3', 'P4',\n",
    "       'P5', 'P6', 'P7', 'P8', 'P9'],\n",
    "      dtype='object')"
   ]
  },
  {
   "cell_type": "code",
   "execution_count": 72,
   "metadata": {},
   "outputs": [
    {
     "data": {
      "text/plain": [
       "5409646"
      ]
     },
     "execution_count": 72,
     "metadata": {},
     "output_type": "execute_result"
    }
   ],
   "source": [
    "len(dfb1)"
   ]
  },
  {
   "cell_type": "code",
   "execution_count": 49,
   "metadata": {},
   "outputs": [
    {
     "data": {
      "text/plain": [
       "array([None, 0.0, 6.0, 9.0, 1.0, 7.0, 3.0, 2.0, 5.0, 4.0, 8.0],\n",
       "      dtype=object)"
      ]
     },
     "execution_count": 49,
     "metadata": {},
     "output_type": "execute_result"
    }
   ],
   "source": [
    "dfb1[\"building\"].unique()"
   ]
  },
  {
   "cell_type": "markdown",
   "metadata": {},
   "source": [
    "Remove 'nan' if it is present"
   ]
  },
  {
   "cell_type": "code",
   "execution_count": 47,
   "metadata": {},
   "outputs": [
    {
     "data": {
      "text/plain": [
       "array([nan], dtype=object)"
      ]
     },
     "execution_count": 47,
     "metadata": {},
     "output_type": "execute_result"
    }
   ],
   "source": [
    "dfb1[\"building\"].unique()[10:11]"
   ]
  },
  {
   "cell_type": "code",
   "execution_count": 48,
   "metadata": {},
   "outputs": [],
   "source": [
    "for i in dfb1[dfb1[\"building\"].isin(dfb1[\"building\"].unique()[10:11])].index:\n",
    "    dfb1.loc[i, \"building\"]=None"
   ]
  },
  {
   "cell_type": "code",
   "execution_count": 44,
   "metadata": {},
   "outputs": [
    {
     "data": {
      "text/plain": [
       "5416983"
      ]
     },
     "execution_count": 44,
     "metadata": {},
     "output_type": "execute_result"
    }
   ],
   "source": [
    "len(dfb1)"
   ]
  },
  {
   "cell_type": "markdown",
   "metadata": {},
   "source": [
    "Store predictions for Building Type \n",
    "This could take a long time so be careful about it crashing. May need to partition the dataset"
   ]
  },
  {
   "cell_type": "code",
   "execution_count": 50,
   "metadata": {},
   "outputs": [
    {
     "name": "stderr",
     "output_type": "stream",
     "text": [
      "100%|██████████| 5416983/5416983 [11:26:38<00:00, 131.49it/s]  \n"
     ]
    }
   ],
   "source": [
    "for i in tqdm(range(len(dfb1))):\n",
    "   temp = dfb1.iloc[[i]]\n",
    "   if temp[\"building\"][i] == None:\n",
    "      temp = temp.drop(columns=['id', 'properties',  'GEOID', 'NAMELSAD', 'COUNTYNS',\n",
    "                                    \n",
    "       'Area', 'Tract', 'osm_id', 'osm_way_id', 'aeroway', 'amenity',\n",
    "       'barrier', 'building', 'craft', 'geological', 'historic', 'land_area',\n",
    "       'leisure', 'man_made', 'military', 'natural', 'office', 'place', 'shop',\n",
    "       'sport', 'tourism', 'other_tags', 'landuse', 'P0', 'P1', 'P2', 'P3', 'P4',\n",
    "       'P5', 'P6', 'P7', 'P8', 'P9', 'other_tags_1'])\n",
    "      pred=model.predict(temp)[0]\n",
    "      dfb1.loc[i,\"P0\"]=pred[0]\n",
    "      dfb1.loc[i,\"P1\"]=pred[1]\n",
    "      dfb1.loc[i,\"P2\"]=pred[2]\n",
    "      dfb1.loc[i,\"P3\"]=pred[3]\n",
    "      dfb1.loc[i,\"P4\"]=pred[4]\n",
    "      dfb1.loc[i,\"P5\"]=pred[5]\n",
    "      dfb1.loc[i,\"P6\"]=pred[6]\n",
    "      dfb1.loc[i,\"P7\"]=pred[7]\n",
    "      dfb1.loc[i,\"P8\"]=pred[8]\n",
    "      dfb1.loc[i,\"P9\"]=pred[9]\n",
    "   else:\n",
    "      dfb1.loc[i,\"P\"+str(int(temp[\"building\"][i]))]=1.0\n",
    "\n",
    "      "
   ]
  },
  {
   "cell_type": "code",
   "execution_count": 23,
   "metadata": {},
   "outputs": [
    {
     "data": {
      "text/plain": [
       "2896640"
      ]
     },
     "execution_count": 23,
     "metadata": {},
     "output_type": "execute_result"
    }
   ],
   "source": [
    "len(dfb1)"
   ]
  },
  {
   "cell_type": "code",
   "execution_count": 56,
   "metadata": {},
   "outputs": [],
   "source": [
    "#dfb=dfb.drop(columns=['Join_Count', 'TARGET_FID', 'JOIN_FID', 'name','admin_level','type','OBJECTID_1','land_area', 'ALAND', 'AWATER', 'CLASSFP', 'FUNCSTAT','Shape_Length_1', 'Shape_Area_1','Shape_Length', 'Shape_Area', 'ORIG_FID'])"
   ]
  },
  {
   "cell_type": "code",
   "execution_count": 57,
   "metadata": {},
   "outputs": [
    {
     "data": {
      "text/plain": [
       "Index(['osm_id', 'osm_way_id', 'aeroway', 'amenity', 'barrier', 'boundary',\n",
       "       'building', 'craft', 'geological', 'historic', 'landuse', 'leisure',\n",
       "       'man_made', 'military', 'natural', 'office', 'place', 'shop', 'sport',\n",
       "       'tourism', 'other_tags', 'GEOID', 'NAMELSAD', 'INTPTLAT', 'INTPTLON',\n",
       "       'COUNTYNS', 'Tract', 'Area'],\n",
       "      dtype='object')"
      ]
     },
     "execution_count": 57,
     "metadata": {},
     "output_type": "execute_result"
    }
   ],
   "source": [
    "#dfb.columns"
   ]
  },
  {
   "cell_type": "markdown",
   "metadata": {},
   "source": [
    "Split Datasets by Tract"
   ]
  },
  {
   "cell_type": "code",
   "execution_count": 112,
   "metadata": {},
   "outputs": [],
   "source": [
    "inits=\"PA\""
   ]
  },
  {
   "cell_type": "markdown",
   "metadata": {},
   "source": [
    "Make output directories"
   ]
  },
  {
   "cell_type": "code",
   "execution_count": 52,
   "metadata": {},
   "outputs": [],
   "source": [
    "for key, group in dfb1.groupby('Tract'):\n",
    "    group.to_csv(f'C:\\\\Users\\\\nairk\\\\census-by-precincts\\\\info\\\\Merged\\\\{inits}_Buildings\\\\Tract_{key}.csv', index=False)"
   ]
  },
  {
   "cell_type": "code",
   "execution_count": 113,
   "metadata": {},
   "outputs": [],
   "source": [
    "for key, group in dfb2.groupby('Tract'):\n",
    "    group.to_csv(f'C:\\\\Users\\\\nairk\\\\census-by-precincts\\\\info\\\\Merged\\\\{inits}_Non_Buildings\\\\Tract_{key}.csv', index=False)"
   ]
  },
  {
   "cell_type": "markdown",
   "metadata": {},
   "source": [
    "Load Partitioned Road Files"
   ]
  },
  {
   "cell_type": "code",
   "execution_count": 64,
   "metadata": {},
   "outputs": [],
   "source": [
    "roads=[]"
   ]
  },
  {
   "cell_type": "code",
   "execution_count": 65,
   "metadata": {},
   "outputs": [
    {
     "name": "stderr",
     "output_type": "stream",
     "text": [
      "C:\\Users\\nairk\\AppData\\Local\\Temp\\ipykernel_19896\\2017440493.py:5: DtypeWarning: Columns (7) have mixed types. Specify dtype option on import or set low_memory=False.\n",
      "  row=pd.read_csv(path,dtype={'GEOID': object})\n"
     ]
    },
    {
     "name": "stdout",
     "output_type": "stream",
     "text": [
      "28\n"
     ]
    },
    {
     "name": "stderr",
     "output_type": "stream",
     "text": [
      "C:\\Users\\nairk\\AppData\\Local\\Temp\\ipykernel_19896\\2017440493.py:5: DtypeWarning: Columns (7,8) have mixed types. Specify dtype option on import or set low_memory=False.\n",
      "  row=pd.read_csv(path,dtype={'GEOID': object})\n"
     ]
    },
    {
     "name": "stdout",
     "output_type": "stream",
     "text": [
      "28\n"
     ]
    },
    {
     "name": "stderr",
     "output_type": "stream",
     "text": [
      "C:\\Users\\nairk\\AppData\\Local\\Temp\\ipykernel_19896\\2017440493.py:5: DtypeWarning: Columns (7,8) have mixed types. Specify dtype option on import or set low_memory=False.\n",
      "  row=pd.read_csv(path,dtype={'GEOID': object})\n"
     ]
    },
    {
     "name": "stdout",
     "output_type": "stream",
     "text": [
      "28\n"
     ]
    },
    {
     "name": "stderr",
     "output_type": "stream",
     "text": [
      "C:\\Users\\nairk\\AppData\\Local\\Temp\\ipykernel_19896\\2017440493.py:5: DtypeWarning: Columns (7,8) have mixed types. Specify dtype option on import or set low_memory=False.\n",
      "  row=pd.read_csv(path,dtype={'GEOID': object})\n"
     ]
    },
    {
     "name": "stdout",
     "output_type": "stream",
     "text": [
      "28\n"
     ]
    },
    {
     "name": "stderr",
     "output_type": "stream",
     "text": [
      "C:\\Users\\nairk\\AppData\\Local\\Temp\\ipykernel_19896\\2017440493.py:5: DtypeWarning: Columns (7) have mixed types. Specify dtype option on import or set low_memory=False.\n",
      "  row=pd.read_csv(path,dtype={'GEOID': object})\n"
     ]
    },
    {
     "name": "stdout",
     "output_type": "stream",
     "text": [
      "28\n"
     ]
    },
    {
     "name": "stderr",
     "output_type": "stream",
     "text": [
      "C:\\Users\\nairk\\AppData\\Local\\Temp\\ipykernel_19896\\2017440493.py:5: DtypeWarning: Columns (7) have mixed types. Specify dtype option on import or set low_memory=False.\n",
      "  row=pd.read_csv(path,dtype={'GEOID': object})\n"
     ]
    },
    {
     "name": "stdout",
     "output_type": "stream",
     "text": [
      "28\n"
     ]
    }
   ],
   "source": [
    "directory = \"C:\\\\Users\\\\nairk\\\\census-by-precincts\\\\info\\\\Unmerged_Roads\"\n",
    "for file in os.listdir(directory):\n",
    "    path = os.path.join(directory, file)\n",
    "    if os.path.isfile(path):\n",
    "        row=pd.read_csv(path,dtype={'GEOID': object})\n",
    "        print(len(row.columns))\n",
    "        roads.append(row)\n",
    "    else:\n",
    "        print(\"NO FILE\")"
   ]
  },
  {
   "cell_type": "markdown",
   "metadata": {},
   "source": [
    "Merge Road Files"
   ]
  },
  {
   "cell_type": "code",
   "execution_count": 66,
   "metadata": {},
   "outputs": [],
   "source": [
    "dfr=pd.concat(roads,ignore_index=True)"
   ]
  },
  {
   "cell_type": "markdown",
   "metadata": {},
   "source": [
    "Or Load Singular Road File"
   ]
  },
  {
   "cell_type": "code",
   "execution_count": 123,
   "metadata": {},
   "outputs": [
    {
     "name": "stderr",
     "output_type": "stream",
     "text": [
      "C:\\Users\\nairk\\AppData\\Local\\Temp\\ipykernel_4120\\2369586389.py:1: DtypeWarning: Columns (7) have mixed types. Specify dtype option on import or set low_memory=False.\n",
      "  dfr=pd.read_csv(\"C:\\\\Users\\\\nairk\\\\census-by-precincts\\\\info\\\\MS_Joined\\\\AZ_Roads.csv\")\n"
     ]
    }
   ],
   "source": [
    "dfr=pd.read_csv(\"C:\\\\Users\\\\nairk\\\\census-by-precincts\\\\info\\\\MS_Joined\\\\AZ_Roads.csv\")"
   ]
  },
  {
   "cell_type": "code",
   "execution_count": 124,
   "metadata": {},
   "outputs": [
    {
     "data": {
      "text/plain": [
       "Index(['Join_Count', 'TARGET_FID', 'JOIN_FID', 'osm_id', 'name', 'highway',\n",
       "       'waterway', 'aerialway', 'barrier', 'man_made', 'railway', 'z_order',\n",
       "       'other_tags', 'OBJECTID_1', 'GEOID', 'NAMELSAD', 'ALAND', 'AWATER',\n",
       "       'INTPTLAT', 'INTPTLON', 'COUNTYNS', 'CLASSFP', 'FUNCSTAT', 'Area',\n",
       "       'Tract', 'layer', 'path', 'Shape_Length_1', 'Shape_Length'],\n",
       "      dtype='object')"
      ]
     },
     "execution_count": 124,
     "metadata": {},
     "output_type": "execute_result"
    }
   ],
   "source": [
    "dfr.columns"
   ]
  },
  {
   "cell_type": "markdown",
   "metadata": {},
   "source": [
    "Drop Unnecessary Columns"
   ]
  },
  {
   "cell_type": "code",
   "execution_count": 125,
   "metadata": {},
   "outputs": [],
   "source": [
    "dfr=dfr.drop(columns=[ 'Join_Count', 'TARGET_FID', 'JOIN_FID','name','z_order',\n",
    "       'OBJECTID_1', 'ALAND', 'AWATER', 'CLASSFP', 'FUNCSTAT', 'Shape_Length_1', 'Shape_Length','layer', 'path',])"
   ]
  },
  {
   "cell_type": "code",
   "execution_count": 126,
   "metadata": {},
   "outputs": [
    {
     "data": {
      "text/plain": [
       "Index(['osm_id', 'highway', 'waterway', 'aerialway', 'barrier', 'man_made',\n",
       "       'railway', 'other_tags', 'GEOID', 'NAMELSAD', 'INTPTLAT', 'INTPTLON',\n",
       "       'COUNTYNS', 'Area', 'Tract'],\n",
       "      dtype='object')"
      ]
     },
     "execution_count": 126,
     "metadata": {},
     "output_type": "execute_result"
    }
   ],
   "source": [
    "dfr.columns"
   ]
  },
  {
   "cell_type": "markdown",
   "metadata": {},
   "source": [
    "Drop Duplicates"
   ]
  },
  {
   "cell_type": "code",
   "execution_count": 127,
   "metadata": {},
   "outputs": [],
   "source": [
    "dfr=dfr.drop_duplicates()"
   ]
  },
  {
   "cell_type": "markdown",
   "metadata": {},
   "source": [
    "Split Road Dataset by Tract"
   ]
  },
  {
   "cell_type": "code",
   "execution_count": 129,
   "metadata": {},
   "outputs": [],
   "source": [
    "for key, group in dfr.groupby('Tract'):\n",
    "    group.to_csv(f'C:\\\\Users\\\\nairk\\\\census-by-precincts\\\\info\\\\Merged\\\\AZ_Roads\\\\Tract_{key}.csv', index=False)"
   ]
  }
 ],
 "metadata": {
  "kernelspec": {
   "display_name": "Python 3",
   "language": "python",
   "name": "python3"
  },
  "language_info": {
   "codemirror_mode": {
    "name": "ipython",
    "version": 3
   },
   "file_extension": ".py",
   "mimetype": "text/x-python",
   "name": "python",
   "nbconvert_exporter": "python",
   "pygments_lexer": "ipython3",
   "version": "3.11.9"
  }
 },
 "nbformat": 4,
 "nbformat_minor": 2
}
